{
 "cells": [
  {
   "cell_type": "markdown",
   "metadata": {},
   "source": [
    "# Data Preparation \n",
    "\n",
    "This notebook filters and formats the data for further analysis. \n",
    "\n",
    "*Author: Koki Sasagawa*  \n",
    "\n",
    "*Date: 4/10/2019*"
   ]
  },
  {
   "cell_type": "code",
   "execution_count": 1,
   "metadata": {},
   "outputs": [],
   "source": [
    "import pandas as pd\n",
    "import numpy as np\n",
    "import matplotlib.pyplot as plt\n",
    "import os \n",
    "import math\n",
    "from api import reverse_geocode"
   ]
  },
  {
   "cell_type": "code",
   "execution_count": 2,
   "metadata": {},
   "outputs": [
    {
     "name": "stdout",
     "output_type": "stream",
     "text": [
      "0 3-min-water-safety-survey_April+6,+2019_11.06.zip\n",
      "1 3-min-water-safety-survey-paid_April+5,+2019_13.26.zip\n"
     ]
    }
   ],
   "source": [
    "# Show files in raw_data folder\n",
    "directory = './raw_data/'\n",
    "files = os.listdir(directory)\n",
    "for i, fname in enumerate(files):\n",
    "    print(i, fname)"
   ]
  },
  {
   "cell_type": "code",
   "execution_count": null,
   "metadata": {},
   "outputs": [],
   "source": [
    "# Specify filename \n",
    "# This should correspond to the type of the data\n",
    "# Leave this entry as blank quotes for the non-mTurk Survey \n",
    "# Use '(mTurk)' for the mTurk survey data\n",
    "fname = ''"
   ]
  },
  {
   "cell_type": "code",
   "execution_count": 4,
   "metadata": {},
   "outputs": [],
   "source": [
    "# See what parameters this function accepts\n",
    "# help(pd.read_csv)"
   ]
  },
  {
   "cell_type": "markdown",
   "metadata": {},
   "source": [
    "## Remove unwanted rows and columns"
   ]
  },
  {
   "cell_type": "code",
   "execution_count": 9,
   "metadata": {},
   "outputs": [
    {
     "name": "stdout",
     "output_type": "stream",
     "text": [
      "Dimensions: (88, 38)\n"
     ]
    },
    {
     "data": {
      "text/html": [
       "<div>\n",
       "<style scoped>\n",
       "    .dataframe tbody tr th:only-of-type {\n",
       "        vertical-align: middle;\n",
       "    }\n",
       "\n",
       "    .dataframe tbody tr th {\n",
       "        vertical-align: top;\n",
       "    }\n",
       "\n",
       "    .dataframe thead th {\n",
       "        text-align: right;\n",
       "    }\n",
       "</style>\n",
       "<table border=\"1\" class=\"dataframe\">\n",
       "  <thead>\n",
       "    <tr style=\"text-align: right;\">\n",
       "      <th></th>\n",
       "      <th>StartDate</th>\n",
       "      <th>EndDate</th>\n",
       "      <th>Status</th>\n",
       "      <th>IPAddress</th>\n",
       "      <th>Progress</th>\n",
       "      <th>Duration (in seconds)</th>\n",
       "      <th>Finished</th>\n",
       "      <th>RecordedDate</th>\n",
       "      <th>ResponseId</th>\n",
       "      <th>RecipientLastName</th>\n",
       "      <th>...</th>\n",
       "      <th>Q7_6</th>\n",
       "      <th>Q7_6_TEXT</th>\n",
       "      <th>Q8</th>\n",
       "      <th>Q9</th>\n",
       "      <th>Q10</th>\n",
       "      <th>Q11</th>\n",
       "      <th>Q11 - Sentiment Polarity</th>\n",
       "      <th>Q11 - Sentiment Score</th>\n",
       "      <th>Q11 - Sentiment</th>\n",
       "      <th>Q11 - Topics</th>\n",
       "    </tr>\n",
       "  </thead>\n",
       "  <tbody>\n",
       "    <tr>\n",
       "      <th>0</th>\n",
       "      <td>Start Date</td>\n",
       "      <td>End Date</td>\n",
       "      <td>Response Type</td>\n",
       "      <td>IP Address</td>\n",
       "      <td>Progress</td>\n",
       "      <td>Duration (in seconds)</td>\n",
       "      <td>Finished</td>\n",
       "      <td>Recorded Date</td>\n",
       "      <td>Response ID</td>\n",
       "      <td>Recipient Last Name</td>\n",
       "      <td>...</td>\n",
       "      <td>How important are the following factors when y...</td>\n",
       "      <td>How important are the following factors when y...</td>\n",
       "      <td>Please state how many cups (8 oz) of water you...</td>\n",
       "      <td>Of the following, which vehicle do you primari...</td>\n",
       "      <td>How far do you drive your vehicle per day?</td>\n",
       "      <td>Imagine you were able to have filtered, drinka...</td>\n",
       "      <td>Q11 - Sentiment Polarity</td>\n",
       "      <td>Q11 - Sentiment Score</td>\n",
       "      <td>Q11 - Sentiment</td>\n",
       "      <td>Q11 - Topics</td>\n",
       "    </tr>\n",
       "    <tr>\n",
       "      <th>1</th>\n",
       "      <td>{\"ImportId\":\"startDate\",\"timeZone\":\"America/De...</td>\n",
       "      <td>{\"ImportId\":\"endDate\",\"timeZone\":\"America/Denv...</td>\n",
       "      <td>{\"ImportId\":\"status\"}</td>\n",
       "      <td>{\"ImportId\":\"ipAddress\"}</td>\n",
       "      <td>{\"ImportId\":\"progress\"}</td>\n",
       "      <td>{\"ImportId\":\"duration\"}</td>\n",
       "      <td>{\"ImportId\":\"finished\"}</td>\n",
       "      <td>{\"ImportId\":\"recordedDate\",\"timeZone\":\"America...</td>\n",
       "      <td>{\"ImportId\":\"_recordId\"}</td>\n",
       "      <td>{\"ImportId\":\"recipientLastName\"}</td>\n",
       "      <td>...</td>\n",
       "      <td>{\"ImportId\":\"QID41_6\"}</td>\n",
       "      <td>{\"ImportId\":\"QID41_6_TEXT\"}</td>\n",
       "      <td>{\"ImportId\":\"QID42\"}</td>\n",
       "      <td>{\"ImportId\":\"QID43\"}</td>\n",
       "      <td>{\"ImportId\":\"QID44\"}</td>\n",
       "      <td>{\"ImportId\":\"QID51_TEXT\"}</td>\n",
       "      <td>{\"ImportId\":\"QID51_TEXT_71df8f4eae9840cdb70de1...</td>\n",
       "      <td>{\"ImportId\":\"QID51_TEXT_71df8f4eae9840cdb70de1...</td>\n",
       "      <td>{\"ImportId\":\"QID51_TEXT_71df8f4eae9840cdb70de1...</td>\n",
       "      <td>{\"ImportId\":\"QID51_TEXT_71df8f4eae9840cdb70de1...</td>\n",
       "    </tr>\n",
       "    <tr>\n",
       "      <th>2</th>\n",
       "      <td>2019-03-31 16:46:28</td>\n",
       "      <td>2019-03-31 16:48:05</td>\n",
       "      <td>Survey Preview</td>\n",
       "      <td>NaN</td>\n",
       "      <td>100</td>\n",
       "      <td>96</td>\n",
       "      <td>True</td>\n",
       "      <td>2019-03-31 16:48:05</td>\n",
       "      <td>R_dh8s6jUcZa5UqGZ</td>\n",
       "      <td>NaN</td>\n",
       "      <td>...</td>\n",
       "      <td>NaN</td>\n",
       "      <td>NaN</td>\n",
       "      <td>Between 11 to 15 cups</td>\n",
       "      <td>SUV</td>\n",
       "      <td>Under 20 miles / under 32 km</td>\n",
       "      <td>Wash the sand off my feet at the beach</td>\n",
       "      <td>0</td>\n",
       "      <td>-1</td>\n",
       "      <td>Negative</td>\n",
       "      <td>Unknown</td>\n",
       "    </tr>\n",
       "  </tbody>\n",
       "</table>\n",
       "<p>3 rows × 38 columns</p>\n",
       "</div>"
      ],
      "text/plain": [
       "                                           StartDate  \\\n",
       "0                                         Start Date   \n",
       "1  {\"ImportId\":\"startDate\",\"timeZone\":\"America/De...   \n",
       "2                                2019-03-31 16:46:28   \n",
       "\n",
       "                                             EndDate                 Status  \\\n",
       "0                                           End Date          Response Type   \n",
       "1  {\"ImportId\":\"endDate\",\"timeZone\":\"America/Denv...  {\"ImportId\":\"status\"}   \n",
       "2                                2019-03-31 16:48:05         Survey Preview   \n",
       "\n",
       "                  IPAddress                 Progress    Duration (in seconds)  \\\n",
       "0                IP Address                 Progress    Duration (in seconds)   \n",
       "1  {\"ImportId\":\"ipAddress\"}  {\"ImportId\":\"progress\"}  {\"ImportId\":\"duration\"}   \n",
       "2                       NaN                      100                       96   \n",
       "\n",
       "                  Finished                                       RecordedDate  \\\n",
       "0                 Finished                                      Recorded Date   \n",
       "1  {\"ImportId\":\"finished\"}  {\"ImportId\":\"recordedDate\",\"timeZone\":\"America...   \n",
       "2                     True                                2019-03-31 16:48:05   \n",
       "\n",
       "                 ResponseId                 RecipientLastName  ...  \\\n",
       "0               Response ID               Recipient Last Name  ...   \n",
       "1  {\"ImportId\":\"_recordId\"}  {\"ImportId\":\"recipientLastName\"}  ...   \n",
       "2         R_dh8s6jUcZa5UqGZ                               NaN  ...   \n",
       "\n",
       "                                                Q7_6  \\\n",
       "0  How important are the following factors when y...   \n",
       "1                             {\"ImportId\":\"QID41_6\"}   \n",
       "2                                                NaN   \n",
       "\n",
       "                                           Q7_6_TEXT  \\\n",
       "0  How important are the following factors when y...   \n",
       "1                        {\"ImportId\":\"QID41_6_TEXT\"}   \n",
       "2                                                NaN   \n",
       "\n",
       "                                                  Q8  \\\n",
       "0  Please state how many cups (8 oz) of water you...   \n",
       "1                               {\"ImportId\":\"QID42\"}   \n",
       "2                              Between 11 to 15 cups   \n",
       "\n",
       "                                                  Q9  \\\n",
       "0  Of the following, which vehicle do you primari...   \n",
       "1                               {\"ImportId\":\"QID43\"}   \n",
       "2                                                SUV   \n",
       "\n",
       "                                          Q10  \\\n",
       "0  How far do you drive your vehicle per day?   \n",
       "1                        {\"ImportId\":\"QID44\"}   \n",
       "2                Under 20 miles / under 32 km   \n",
       "\n",
       "                                                 Q11  \\\n",
       "0  Imagine you were able to have filtered, drinka...   \n",
       "1                          {\"ImportId\":\"QID51_TEXT\"}   \n",
       "2             Wash the sand off my feet at the beach   \n",
       "\n",
       "                            Q11 - Sentiment Polarity  \\\n",
       "0                           Q11 - Sentiment Polarity   \n",
       "1  {\"ImportId\":\"QID51_TEXT_71df8f4eae9840cdb70de1...   \n",
       "2                                                  0   \n",
       "\n",
       "                               Q11 - Sentiment Score  \\\n",
       "0                              Q11 - Sentiment Score   \n",
       "1  {\"ImportId\":\"QID51_TEXT_71df8f4eae9840cdb70de1...   \n",
       "2                                                 -1   \n",
       "\n",
       "                                     Q11 - Sentiment  \\\n",
       "0                                    Q11 - Sentiment   \n",
       "1  {\"ImportId\":\"QID51_TEXT_71df8f4eae9840cdb70de1...   \n",
       "2                                           Negative   \n",
       "\n",
       "                                        Q11 - Topics  \n",
       "0                                       Q11 - Topics  \n",
       "1  {\"ImportId\":\"QID51_TEXT_71df8f4eae9840cdb70de1...  \n",
       "2                                            Unknown  \n",
       "\n",
       "[3 rows x 38 columns]"
      ]
     },
     "execution_count": 9,
     "metadata": {},
     "output_type": "execute_result"
    }
   ],
   "source": [
    "# Read in data\n",
    "comparisons = pd.read_csv(directory + files[0], compression='zip')\n",
    "print(\"Dimensions: {}\".format(comparisons.shape))\n",
    "comparisons.head(3)"
   ]
  },
  {
   "cell_type": "code",
   "execution_count": 10,
   "metadata": {},
   "outputs": [
    {
     "name": "stdout",
     "output_type": "stream",
     "text": [
      "Dimensions: (86, 38)\n"
     ]
    },
    {
     "data": {
      "text/html": [
       "<div>\n",
       "<style scoped>\n",
       "    .dataframe tbody tr th:only-of-type {\n",
       "        vertical-align: middle;\n",
       "    }\n",
       "\n",
       "    .dataframe tbody tr th {\n",
       "        vertical-align: top;\n",
       "    }\n",
       "\n",
       "    .dataframe thead th {\n",
       "        text-align: right;\n",
       "    }\n",
       "</style>\n",
       "<table border=\"1\" class=\"dataframe\">\n",
       "  <thead>\n",
       "    <tr style=\"text-align: right;\">\n",
       "      <th></th>\n",
       "      <th>StartDate</th>\n",
       "      <th>EndDate</th>\n",
       "      <th>Status</th>\n",
       "      <th>IPAddress</th>\n",
       "      <th>Progress</th>\n",
       "      <th>Duration (in seconds)</th>\n",
       "      <th>Finished</th>\n",
       "      <th>RecordedDate</th>\n",
       "      <th>ResponseId</th>\n",
       "      <th>RecipientLastName</th>\n",
       "      <th>...</th>\n",
       "      <th>Q7_6</th>\n",
       "      <th>Q7_6_TEXT</th>\n",
       "      <th>Q8</th>\n",
       "      <th>Q9</th>\n",
       "      <th>Q10</th>\n",
       "      <th>Q11</th>\n",
       "      <th>Q11 - Sentiment Polarity</th>\n",
       "      <th>Q11 - Sentiment Score</th>\n",
       "      <th>Q11 - Sentiment</th>\n",
       "      <th>Q11 - Topics</th>\n",
       "    </tr>\n",
       "  </thead>\n",
       "  <tbody>\n",
       "    <tr>\n",
       "      <th>0</th>\n",
       "      <td>2019-03-31 16:46:28</td>\n",
       "      <td>2019-03-31 16:48:05</td>\n",
       "      <td>Survey Preview</td>\n",
       "      <td>NaN</td>\n",
       "      <td>100</td>\n",
       "      <td>96</td>\n",
       "      <td>True</td>\n",
       "      <td>2019-03-31 16:48:05</td>\n",
       "      <td>R_dh8s6jUcZa5UqGZ</td>\n",
       "      <td>NaN</td>\n",
       "      <td>...</td>\n",
       "      <td>NaN</td>\n",
       "      <td>NaN</td>\n",
       "      <td>Between 11 to 15 cups</td>\n",
       "      <td>SUV</td>\n",
       "      <td>Under 20 miles / under 32 km</td>\n",
       "      <td>Wash the sand off my feet at the beach</td>\n",
       "      <td>0</td>\n",
       "      <td>-1</td>\n",
       "      <td>Negative</td>\n",
       "      <td>Unknown</td>\n",
       "    </tr>\n",
       "    <tr>\n",
       "      <th>1</th>\n",
       "      <td>2019-03-31 16:51:25</td>\n",
       "      <td>2019-03-31 16:54:48</td>\n",
       "      <td>IP Address</td>\n",
       "      <td>35.0.62.19</td>\n",
       "      <td>100</td>\n",
       "      <td>203</td>\n",
       "      <td>True</td>\n",
       "      <td>2019-03-31 16:54:49</td>\n",
       "      <td>R_OJVXbKHzmhe7m25</td>\n",
       "      <td>NaN</td>\n",
       "      <td>...</td>\n",
       "      <td>NaN</td>\n",
       "      <td>NaN</td>\n",
       "      <td>Less than 1 cup</td>\n",
       "      <td>I do not drive</td>\n",
       "      <td>NaN</td>\n",
       "      <td>NaN</td>\n",
       "      <td>NaN</td>\n",
       "      <td>NaN</td>\n",
       "      <td>NaN</td>\n",
       "      <td>NaN</td>\n",
       "    </tr>\n",
       "    <tr>\n",
       "      <th>2</th>\n",
       "      <td>2019-03-31 16:57:20</td>\n",
       "      <td>2019-03-31 17:01:08</td>\n",
       "      <td>IP Address</td>\n",
       "      <td>35.2.149.130</td>\n",
       "      <td>100</td>\n",
       "      <td>228</td>\n",
       "      <td>True</td>\n",
       "      <td>2019-03-31 17:01:08</td>\n",
       "      <td>R_1IK0hEA0Mide4IB</td>\n",
       "      <td>NaN</td>\n",
       "      <td>...</td>\n",
       "      <td>NaN</td>\n",
       "      <td>NaN</td>\n",
       "      <td>Between 11 to 15 cups</td>\n",
       "      <td>Sedan</td>\n",
       "      <td>Under 20 miles / under 32 km</td>\n",
       "      <td>When I stop every time!!!</td>\n",
       "      <td>0</td>\n",
       "      <td>-7</td>\n",
       "      <td>Negative</td>\n",
       "      <td>Unknown</td>\n",
       "    </tr>\n",
       "  </tbody>\n",
       "</table>\n",
       "<p>3 rows × 38 columns</p>\n",
       "</div>"
      ],
      "text/plain": [
       "             StartDate              EndDate          Status     IPAddress  \\\n",
       "0  2019-03-31 16:46:28  2019-03-31 16:48:05  Survey Preview           NaN   \n",
       "1  2019-03-31 16:51:25  2019-03-31 16:54:48      IP Address    35.0.62.19   \n",
       "2  2019-03-31 16:57:20  2019-03-31 17:01:08      IP Address  35.2.149.130   \n",
       "\n",
       "  Progress Duration (in seconds) Finished         RecordedDate  \\\n",
       "0      100                    96     True  2019-03-31 16:48:05   \n",
       "1      100                   203     True  2019-03-31 16:54:49   \n",
       "2      100                   228     True  2019-03-31 17:01:08   \n",
       "\n",
       "          ResponseId RecipientLastName  ... Q7_6 Q7_6_TEXT  \\\n",
       "0  R_dh8s6jUcZa5UqGZ               NaN  ...  NaN       NaN   \n",
       "1  R_OJVXbKHzmhe7m25               NaN  ...  NaN       NaN   \n",
       "2  R_1IK0hEA0Mide4IB               NaN  ...  NaN       NaN   \n",
       "\n",
       "                      Q8              Q9                           Q10  \\\n",
       "0  Between 11 to 15 cups             SUV  Under 20 miles / under 32 km   \n",
       "1        Less than 1 cup  I do not drive                           NaN   \n",
       "2  Between 11 to 15 cups           Sedan  Under 20 miles / under 32 km   \n",
       "\n",
       "                                      Q11 Q11 - Sentiment Polarity  \\\n",
       "0  Wash the sand off my feet at the beach                        0   \n",
       "1                                     NaN                      NaN   \n",
       "2               When I stop every time!!!                        0   \n",
       "\n",
       "  Q11 - Sentiment Score Q11 - Sentiment Q11 - Topics  \n",
       "0                    -1        Negative      Unknown  \n",
       "1                   NaN             NaN          NaN  \n",
       "2                    -7        Negative      Unknown  \n",
       "\n",
       "[3 rows x 38 columns]"
      ]
     },
     "execution_count": 10,
     "metadata": {},
     "output_type": "execute_result"
    }
   ],
   "source": [
    "# Drop first 2 rows since they do not contain data points\n",
    "comparisons = comparisons.drop(index=[0,1], axis=0).reset_index(drop=True)\n",
    "print(\"Dimensions: {}\".format(comparisons.shape))\n",
    "comparisons.head(3)"
   ]
  },
  {
   "cell_type": "code",
   "execution_count": 12,
   "metadata": {},
   "outputs": [
    {
     "name": "stdout",
     "output_type": "stream",
     "text": [
      "Dimensions: (85, 38)\n"
     ]
    }
   ],
   "source": [
    "# Remove any rows with preview data\n",
    "preview_data = comparisons[comparisons['Status'] == 'Survey Preview'].index.tolist()\n",
    "if len(preview_data) > 0:\n",
    "    comparisons = comparisons.drop(axis=0, index=preview_data).reset_index(drop=True)\n",
    "    print(\"Dimensions: {}\".format(comparisons.shape))\n",
    "    comparisons.head(3)\n",
    "else:\n",
    "    print(\"No preview data\")"
   ]
  },
  {
   "cell_type": "code",
   "execution_count": 13,
   "metadata": {},
   "outputs": [
    {
     "name": "stdout",
     "output_type": "stream",
     "text": [
      "Dimensions: (85, 34)\n",
      "Dropped columns: {'RecipientLastName', 'RecipientEmail', 'ExternalReference', 'RecipientFirstName'}\n"
     ]
    }
   ],
   "source": [
    "# Remove all empty columns\n",
    "col_before_drop = set(comparisons.columns)\n",
    "comparisons = comparisons.dropna(axis=1, how='all')\n",
    "print(\"Dimensions: {}\".format(comparisons.shape))\n",
    "col_after_drop = set(comparisons.columns)\n",
    "print(\"Dropped columns: {}\".format(col_before_drop.difference(col_after_drop)))"
   ]
  },
  {
   "cell_type": "code",
   "execution_count": 14,
   "metadata": {},
   "outputs": [
    {
     "name": "stdout",
     "output_type": "stream",
     "text": [
      "Dimensions: (75, 34)\n"
     ]
    }
   ],
   "source": [
    "# Get list of index of unfinished responses and remove\n",
    "unfinished = comparisons[comparisons['Finished'] == 'False'].index.tolist()\n",
    "if len(unfinished) > 0:\n",
    "    comparisons = comparisons.drop(axis=0, index=unfinished).reset_index(drop=True)\n",
    "    print(\"Dimensions: {}\".format(comparisons.shape))\n",
    "    comparisons.head(3)\n",
    "else:\n",
    "    print(\"No unfinished responses\")"
   ]
  },
  {
   "cell_type": "code",
   "execution_count": 15,
   "metadata": {},
   "outputs": [
    {
     "data": {
      "text/plain": [
       "0    Thurston, Ann Arbor, MI, United States\n",
       "1    Thurston, Ann Arbor, MI, United States\n",
       "2    Thurston, Ann Arbor, MI, United States\n",
       "Name: address, dtype: object"
      ]
     },
     "execution_count": 15,
     "metadata": {},
     "output_type": "execute_result"
    }
   ],
   "source": [
    "# Get Address \n",
    "comparisons[\"address\"] = comparisons.apply(lambda row: reverse_geocode(row[\"LocationLatitude\"], row[\"LocationLongitude\"]), axis=1)\n",
    "comparisons[\"address\"].head(3)"
   ]
  },
  {
   "cell_type": "code",
   "execution_count": 16,
   "metadata": {},
   "outputs": [
    {
     "data": {
      "text/plain": [
       "0    USA\n",
       "1    USA\n",
       "2    USA\n",
       "Name: country, dtype: object"
      ]
     },
     "execution_count": 16,
     "metadata": {},
     "output_type": "execute_result"
    }
   ],
   "source": [
    "# Get Country\n",
    "comparisons[\"country\"] = comparisons.apply(lambda row: reverse_geocode(row[\"LocationLatitude\"], row[\"LocationLongitude\"], location='country'), axis=1)\n",
    "comparisons[\"country\"].head(3)"
   ]
  },
  {
   "cell_type": "code",
   "execution_count": 22,
   "metadata": {},
   "outputs": [],
   "source": [
    "# Save file \n",
    "comparisons.to_csv('./temp_data/comparisons{}.csv'.format(fname))"
   ]
  },
  {
   "cell_type": "markdown",
   "metadata": {},
   "source": [
    "## Separate responses between US and NON US"
   ]
  },
  {
   "cell_type": "code",
   "execution_count": 88,
   "metadata": {},
   "outputs": [],
   "source": [
    "# open file\n",
    "comparisons = pd.read_csv('./temp_data/comparisons{}.csv'.format(fname), index_col=0)"
   ]
  },
  {
   "cell_type": "code",
   "execution_count": 89,
   "metadata": {},
   "outputs": [
    {
     "name": "stdout",
     "output_type": "stream",
     "text": [
      "US Dimensions: (63, 36)\n",
      "NON US Dimensions: (12, 36)\n"
     ]
    }
   ],
   "source": [
    "# # Filter US responses by address\n",
    "# comparisons_US = comparisons[comparisons['address'].str.contains('United States')==True]\n",
    "# print(\"Dimensions: {}\".format(comparisons_US.shape))\n",
    "# comparisons_NON_US = comparisons[comparisons['address'].str.contains('United States')==False]\n",
    "# print(\"Dimensions: {}\".format(comparisons_NON_US.shape))\n",
    "\n",
    "comparisons_US = comparisons[comparisons['country'] == 'USA']\n",
    "comparisons_US.reset_index(drop=True, inplace=True)\n",
    "print(\"US Dimensions: {}\".format(comparisons_US.shape))\n",
    "comparisons_NON_US = comparisons[comparisons['country'] != 'USA']\n",
    "comparisons_NON_US.reset_index(drop=True, inplace=True)\n",
    "print(\"NON US Dimensions: {}\".format(comparisons_NON_US.shape))"
   ]
  },
  {
   "cell_type": "code",
   "execution_count": 90,
   "metadata": {},
   "outputs": [
    {
     "data": {
      "text/plain": [
       "Eschborn, Hessen, Deutschland                                1\n",
       "Nürnberg, Bayern, Deutschland                                1\n",
       "Barreiro, Portugal                                           1\n",
       "Awapuni, Palmerston North, Manawatu Wanganui, New Zealand    1\n",
       "Greater Vancouver, BC, Canada                                1\n",
       "Indre By, København, Hovedstaden, Danmark                    1\n",
       "567 30, Jönköpings län, Sverige                              1\n",
       "Gambir Kel., Gambir, Jakarta Pusat, Indonesia                1\n",
       "Sopron, Győr-Moson-Sopron, Magyarország                      1\n",
       "Japan                                                        1\n",
       "New Barnet, Barnet, England, United Kingdom                  1\n",
       "Bengaluru, KA, India                                         1\n",
       "Name: address, dtype: int64"
      ]
     },
     "execution_count": 90,
     "metadata": {},
     "output_type": "execute_result"
    }
   ],
   "source": [
    "# Non US respondents\n",
    "comparisons_NON_US['address'].value_counts()"
   ]
  },
  {
   "cell_type": "code",
   "execution_count": 91,
   "metadata": {},
   "outputs": [
    {
     "data": {
      "text/plain": [
       "Thurston, Ann Arbor, MI, United States                20\n",
       "Ann Arbor, MI, United States                           5\n",
       "Bach, Ann Arbor, MI, United States                     3\n",
       "Foster City, CA, United States                         1\n",
       "Jackson, MO, United States                             1\n",
       "Farmington, MI, United States                          1\n",
       "Broadmoor/Sherwood, Baton Rouge, LA, United States     1\n",
       "Madison, WI, United States                             1\n",
       "Westside, Columbus, OH, United States                  1\n",
       "ABC, Artesia, CA, United States                        1\n",
       "Houghton, MI, United States                            1\n",
       "Denton, TX, United States                              1\n",
       "Monitor Twp, MI, United States                         1\n",
       "South Side, Waltham, MA, United States                 1\n",
       "West Bloomfield, MI, United States                     1\n",
       "Lakewood, Ann Arbor, MI, United States                 1\n",
       "River North, Chicago, IL, United States                1\n",
       "Thibodaux, LA, United States                           1\n",
       "Weequahic, Newark, NJ, United States                   1\n",
       "Flint, MI, United States                               1\n",
       "Oakland Twp, MI, United States                         1\n",
       "University City, San Diego, CA, United States          1\n",
       "East Los Angeles, Los Angeles, CA, United States       1\n",
       "Sitka, AK, United States                               1\n",
       "Greenwich Village, New York, NY, United States         1\n",
       "Irving Park, Chicago, IL, United States                1\n",
       "Dearborn, MI, United States                            1\n",
       "Dearborn Heights, MI, United States                    1\n",
       "Rock Island, IL, United States                         1\n",
       "Bedford Twp (Monroe county), MI, United States         1\n",
       "Reno, KS, United States                                1\n",
       "Columbia Heights, Washington, DC, United States        1\n",
       "East Dallas, Dallas, TX, United States                 1\n",
       "Downtown, Atlanta, GA, United States                   1\n",
       "University City, Philadelphia, PA, United States       1\n",
       "Burns Park, Ann Arbor, MI, United States               1\n",
       "Wetmore Twp, PA, United States                         1\n",
       "Detroit, MI, United States                             1\n",
       "Name: address, dtype: int64"
      ]
     },
     "execution_count": 91,
     "metadata": {},
     "output_type": "execute_result"
    }
   ],
   "source": [
    "# US respondents \n",
    "comparisons_US['address'].value_counts()"
   ]
  },
  {
   "cell_type": "markdown",
   "metadata": {},
   "source": [
    "### Extract the state for each response address"
   ]
  },
  {
   "cell_type": "code",
   "execution_count": 92,
   "metadata": {},
   "outputs": [],
   "source": [
    "def get_state(address):\n",
    "    \"\"\"Extract state from address\"\"\"\n",
    "    address = address.split(',')\n",
    "    if len(address) > 0: \n",
    "        state_code = address[-2].strip()\n",
    "        return state_code\n",
    "    else:\n",
    "        return None    "
   ]
  },
  {
   "cell_type": "code",
   "execution_count": 93,
   "metadata": {},
   "outputs": [
    {
     "name": "stderr",
     "output_type": "stream",
     "text": [
      "/Library/Frameworks/Python.framework/Versions/3.7/lib/python3.7/site-packages/ipykernel_launcher.py:1: SettingWithCopyWarning: \n",
      "A value is trying to be set on a copy of a slice from a DataFrame.\n",
      "Try using .loc[row_indexer,col_indexer] = value instead\n",
      "\n",
      "See the caveats in the documentation: http://pandas.pydata.org/pandas-docs/stable/indexing.html#indexing-view-versus-copy\n",
      "  \"\"\"Entry point for launching an IPython kernel.\n"
     ]
    },
    {
     "data": {
      "text/plain": [
       "0    MI\n",
       "1    MI\n",
       "2    MI\n",
       "Name: state, dtype: object"
      ]
     },
     "execution_count": 93,
     "metadata": {},
     "output_type": "execute_result"
    }
   ],
   "source": [
    "comparisons_US['state'] = comparisons_US.apply(lambda row: get_state(row['address']), axis=1)\n",
    "comparisons_US['state'].head(3)"
   ]
  },
  {
   "cell_type": "markdown",
   "metadata": {},
   "source": [
    "### Filter responses by exclusion criteria.\n",
    "\n",
    "Q8 - Please state how many cups (8 oz) of water you drink per day on average  \n",
    "* Decision: Remove respondents that answered 'less than 1 cup'\n",
    "* Rationale: Since the focus of this survey is on drinking water habits, we want to focus on the responses of people who have some level of frequent water drinking habits"
   ]
  },
  {
   "cell_type": "code",
   "execution_count": 94,
   "metadata": {},
   "outputs": [
    {
     "data": {
      "image/png": "[encoded data removed]",
      "text/plain": [
       "<Figure size 504x360 with 1 Axes>"
      ]
     },
     "metadata": {
      "needs_background": "light"
     },
     "output_type": "display_data"
    }
   ],
   "source": [
    "data = comparisons_US['Q8'].value_counts()\n",
    "x = data.index\n",
    "y = data.values\n",
    "plt.figure(1, figsize=(7,5))\n",
    "plt.bar(x, y)\n",
    "plt.title(\"Distribution of Drinking Habits{}\".format(fname))\n",
    "plt.xticks(rotation=45)\n",
    "fig1 = plt.gcf() # get current figure\n",
    "fig1.savefig(\"./images/Drinking_habits{}.png\".format(fname))\n",
    "# plt.show() should come after savefig()\n",
    "plt.show()"
   ]
  },
  {
   "cell_type": "code",
   "execution_count": 95,
   "metadata": {},
   "outputs": [
    {
     "name": "stdout",
     "output_type": "stream",
     "text": [
      "Rows to remove: [0, 13]\n"
     ]
    }
   ],
   "source": [
    "# Get the row index of respondents who answered 'Less than 1 cup'\n",
    "rows = comparisons_US[comparisons_US['Q8'] == 'Less than 1 cup'].index.tolist()\n",
    "print('Rows to remove: {}'.format(rows))\n",
    "# Remove these respondents \n",
    "if len(rows) > 0: \n",
    "    comparisons_US = comparisons_US.drop(index=rows, axis=0).reset_index(drop=True)\n",
    "else:\n",
    "    print(\"No rows removed\")"
   ]
  },
  {
   "cell_type": "markdown",
   "metadata": {},
   "source": [
    "## Visualize the distribution of responses by state"
   ]
  },
  {
   "cell_type": "code",
   "execution_count": 96,
   "metadata": {},
   "outputs": [
    {
     "data": {
      "image/png": "[encoded data removed]",
      "text/plain": [
       "<Figure size 504x360 with 1 Axes>"
      ]
     },
     "metadata": {
      "needs_background": "light"
     },
     "output_type": "display_data"
    }
   ],
   "source": [
    "data = comparisons_US['state'].value_counts()\n",
    "x = data.index\n",
    "y = data.values\n",
    "plt.figure(1, figsize=(7,5))\n",
    "plt.bar(x, y)\n",
    "plt.title(\"Distribution of Responses by State{}\".format(fname))\n",
    "fig1 = plt.gcf() # get current figure\n",
    "fig1.savefig(\"./images/responses_by_state{}.png\".format(fname))\n",
    "# plt.show() should come after savefig()\n",
    "plt.show()"
   ]
  },
  {
   "cell_type": "code",
   "execution_count": 98,
   "metadata": {},
   "outputs": [],
   "source": [
    "# Save data\n",
    "comparisons_US.to_csv('./temp_data/comparisons_US{}.csv'.format(fname))\n",
    "comparisons_NON_US.to_csv('./temp_data/comparisons_NON_US{}.csv'.format(fname))"
   ]
  },
  {
   "cell_type": "markdown",
   "metadata": {},
   "source": [
    "## Prepare the data for BradleyTerry Model Input"
   ]
  },
  {
   "cell_type": "code",
   "execution_count": 99,
   "metadata": {},
   "outputs": [
    {
     "name": "stdout",
     "output_type": "stream",
     "text": [
      "['Public water fountain', 'Drinkable water generated from a car filtration system', 49, 12]\n",
      "['Tap water from home', 'Public water fountain', 48, 13]\n",
      "['Bottled water', 'Public water fountain', 33, 28]\n",
      "['Tap water from home', 'Drinkable water generated from a car filtration system', 53, 8]\n",
      "['Bottled water', 'Drinkable water generated from a car filtration system', 44, 17]\n",
      "['Tap water from home', 'Bottled water', 38, 23]\n",
      "Dimensions: (6, 4)\n"
     ]
    },
    {
     "data": {
      "text/html": [
       "<div>\n",
       "<style scoped>\n",
       "    .dataframe tbody tr th:only-of-type {\n",
       "        vertical-align: middle;\n",
       "    }\n",
       "\n",
       "    .dataframe tbody tr th {\n",
       "        vertical-align: top;\n",
       "    }\n",
       "\n",
       "    .dataframe thead th {\n",
       "        text-align: right;\n",
       "    }\n",
       "</style>\n",
       "<table border=\"1\" class=\"dataframe\">\n",
       "  <thead>\n",
       "    <tr style=\"text-align: right;\">\n",
       "      <th></th>\n",
       "      <th>source1</th>\n",
       "      <th>source2</th>\n",
       "      <th>win1</th>\n",
       "      <th>win2</th>\n",
       "    </tr>\n",
       "  </thead>\n",
       "  <tbody>\n",
       "    <tr>\n",
       "      <th>0</th>\n",
       "      <td>Public water fountain</td>\n",
       "      <td>Drinkable water generated from a car filtratio...</td>\n",
       "      <td>49</td>\n",
       "      <td>12</td>\n",
       "    </tr>\n",
       "    <tr>\n",
       "      <th>1</th>\n",
       "      <td>Tap water from home</td>\n",
       "      <td>Public water fountain</td>\n",
       "      <td>48</td>\n",
       "      <td>13</td>\n",
       "    </tr>\n",
       "    <tr>\n",
       "      <th>2</th>\n",
       "      <td>Bottled water</td>\n",
       "      <td>Public water fountain</td>\n",
       "      <td>33</td>\n",
       "      <td>28</td>\n",
       "    </tr>\n",
       "    <tr>\n",
       "      <th>3</th>\n",
       "      <td>Tap water from home</td>\n",
       "      <td>Drinkable water generated from a car filtratio...</td>\n",
       "      <td>53</td>\n",
       "      <td>8</td>\n",
       "    </tr>\n",
       "    <tr>\n",
       "      <th>4</th>\n",
       "      <td>Bottled water</td>\n",
       "      <td>Drinkable water generated from a car filtratio...</td>\n",
       "      <td>44</td>\n",
       "      <td>17</td>\n",
       "    </tr>\n",
       "    <tr>\n",
       "      <th>5</th>\n",
       "      <td>Tap water from home</td>\n",
       "      <td>Bottled water</td>\n",
       "      <td>38</td>\n",
       "      <td>23</td>\n",
       "    </tr>\n",
       "  </tbody>\n",
       "</table>\n",
       "</div>"
      ],
      "text/plain": [
       "                 source1                                            source2  \\\n",
       "0  Public water fountain  Drinkable water generated from a car filtratio...   \n",
       "1    Tap water from home                              Public water fountain   \n",
       "2          Bottled water                              Public water fountain   \n",
       "3    Tap water from home  Drinkable water generated from a car filtratio...   \n",
       "4          Bottled water  Drinkable water generated from a car filtratio...   \n",
       "5    Tap water from home                                      Bottled water   \n",
       "\n",
       "   win1  win2  \n",
       "0    49    12  \n",
       "1    48    13  \n",
       "2    33    28  \n",
       "3    53     8  \n",
       "4    44    17  \n",
       "5    38    23  "
      ]
     },
     "execution_count": 99,
     "metadata": {},
     "output_type": "execute_result"
    }
   ],
   "source": [
    "# Separate data for paired comparisons analysis \n",
    "paired_questions = ['Q1', 'Q2', 'Q3', 'Q4', 'Q5', 'Q6']\n",
    "paired_comparisons = comparisons_US[paired_questions]\n",
    "columns = ['source1', 'source2', 'win1', 'win2']\n",
    "rows = []\n",
    "\n",
    "for i in paired_questions:\n",
    "    row = paired_comparisons[i].value_counts().index.tolist() \n",
    "    row = row + paired_comparisons[i].value_counts().values.tolist()\n",
    "    print(row)\n",
    "    rows.append(row)\n",
    "\n",
    "win_table = pd.DataFrame(rows, columns=columns)\n",
    "print(\"Dimensions: {}\".format(win_table.shape))\n",
    "win_table"
   ]
  },
  {
   "cell_type": "code",
   "execution_count": 100,
   "metadata": {},
   "outputs": [],
   "source": [
    "win_table.to_csv('./output/win_table_US{}.csv'.format(fname))"
   ]
  },
  {
   "cell_type": "markdown",
   "metadata": {},
   "source": [
    "# Combined results (US responses)"
   ]
  },
  {
   "cell_type": "code",
   "execution_count": 3,
   "metadata": {},
   "outputs": [
    {
     "name": "stdout",
     "output_type": "stream",
     "text": [
      "Dimensions: (61, 37)\n"
     ]
    },
    {
     "data": {
      "text/html": [
       "<div>\n",
       "<style scoped>\n",
       "    .dataframe tbody tr th:only-of-type {\n",
       "        vertical-align: middle;\n",
       "    }\n",
       "\n",
       "    .dataframe tbody tr th {\n",
       "        vertical-align: top;\n",
       "    }\n",
       "\n",
       "    .dataframe thead th {\n",
       "        text-align: right;\n",
       "    }\n",
       "</style>\n",
       "<table border=\"1\" class=\"dataframe\">\n",
       "  <thead>\n",
       "    <tr style=\"text-align: right;\">\n",
       "      <th></th>\n",
       "      <th>StartDate</th>\n",
       "      <th>EndDate</th>\n",
       "      <th>Status</th>\n",
       "      <th>IPAddress</th>\n",
       "      <th>Progress</th>\n",
       "      <th>Duration (in seconds)</th>\n",
       "      <th>Finished</th>\n",
       "      <th>RecordedDate</th>\n",
       "      <th>ResponseId</th>\n",
       "      <th>LocationLatitude</th>\n",
       "      <th>...</th>\n",
       "      <th>Q9</th>\n",
       "      <th>Q10</th>\n",
       "      <th>Q11</th>\n",
       "      <th>Q11 - Sentiment Polarity</th>\n",
       "      <th>Q11 - Sentiment Score</th>\n",
       "      <th>Q11 - Sentiment</th>\n",
       "      <th>Q11 - Topics</th>\n",
       "      <th>address</th>\n",
       "      <th>country</th>\n",
       "      <th>state</th>\n",
       "    </tr>\n",
       "  </thead>\n",
       "  <tbody>\n",
       "    <tr>\n",
       "      <th>0</th>\n",
       "      <td>2019-03-31 16:57:20</td>\n",
       "      <td>2019-03-31 17:01:08</td>\n",
       "      <td>IP Address</td>\n",
       "      <td>35.2.149.130</td>\n",
       "      <td>100</td>\n",
       "      <td>228</td>\n",
       "      <td>True</td>\n",
       "      <td>2019-03-31 17:01:08</td>\n",
       "      <td>R_1IK0hEA0Mide4IB</td>\n",
       "      <td>42.306793</td>\n",
       "      <td>...</td>\n",
       "      <td>Sedan</td>\n",
       "      <td>Under 20 miles / under 32 km</td>\n",
       "      <td>When I stop every time!!!</td>\n",
       "      <td>0.0</td>\n",
       "      <td>-7.0</td>\n",
       "      <td>Negative</td>\n",
       "      <td>Unknown</td>\n",
       "      <td>Thurston, Ann Arbor, MI, United States</td>\n",
       "      <td>USA</td>\n",
       "      <td>MI</td>\n",
       "    </tr>\n",
       "    <tr>\n",
       "      <th>1</th>\n",
       "      <td>2019-03-31 17:02:24</td>\n",
       "      <td>2019-03-31 17:04:10</td>\n",
       "      <td>IP Address</td>\n",
       "      <td>35.1.136.17</td>\n",
       "      <td>100</td>\n",
       "      <td>106</td>\n",
       "      <td>True</td>\n",
       "      <td>2019-03-31 17:04:11</td>\n",
       "      <td>R_2AKgAVgBovymcHp</td>\n",
       "      <td>42.306793</td>\n",
       "      <td>...</td>\n",
       "      <td>I do not drive</td>\n",
       "      <td>NaN</td>\n",
       "      <td>NaN</td>\n",
       "      <td>NaN</td>\n",
       "      <td>NaN</td>\n",
       "      <td>NaN</td>\n",
       "      <td>NaN</td>\n",
       "      <td>Thurston, Ann Arbor, MI, United States</td>\n",
       "      <td>USA</td>\n",
       "      <td>MI</td>\n",
       "    </tr>\n",
       "    <tr>\n",
       "      <th>2</th>\n",
       "      <td>2019-03-31 16:58:11</td>\n",
       "      <td>2019-03-31 17:04:48</td>\n",
       "      <td>IP Address</td>\n",
       "      <td>35.1.88.101</td>\n",
       "      <td>100</td>\n",
       "      <td>397</td>\n",
       "      <td>True</td>\n",
       "      <td>2019-03-31 17:04:49</td>\n",
       "      <td>R_1f8Jsm0KyK8p4hl</td>\n",
       "      <td>42.306793</td>\n",
       "      <td>...</td>\n",
       "      <td>Sedan</td>\n",
       "      <td>Under 20 miles / under 32 km</td>\n",
       "      <td>When I am driving, I wanna drink it</td>\n",
       "      <td>0.0</td>\n",
       "      <td>-1.0</td>\n",
       "      <td>Negative</td>\n",
       "      <td>Unknown</td>\n",
       "      <td>Thurston, Ann Arbor, MI, United States</td>\n",
       "      <td>USA</td>\n",
       "      <td>MI</td>\n",
       "    </tr>\n",
       "  </tbody>\n",
       "</table>\n",
       "<p>3 rows × 37 columns</p>\n",
       "</div>"
      ],
      "text/plain": [
       "             StartDate              EndDate      Status     IPAddress  \\\n",
       "0  2019-03-31 16:57:20  2019-03-31 17:01:08  IP Address  35.2.149.130   \n",
       "1  2019-03-31 17:02:24  2019-03-31 17:04:10  IP Address   35.1.136.17   \n",
       "2  2019-03-31 16:58:11  2019-03-31 17:04:48  IP Address   35.1.88.101   \n",
       "\n",
       "   Progress  Duration (in seconds)  Finished         RecordedDate  \\\n",
       "0       100                    228      True  2019-03-31 17:01:08   \n",
       "1       100                    106      True  2019-03-31 17:04:11   \n",
       "2       100                    397      True  2019-03-31 17:04:49   \n",
       "\n",
       "          ResponseId  LocationLatitude  ...              Q9  \\\n",
       "0  R_1IK0hEA0Mide4IB         42.306793  ...           Sedan   \n",
       "1  R_2AKgAVgBovymcHp         42.306793  ...  I do not drive   \n",
       "2  R_1f8Jsm0KyK8p4hl         42.306793  ...           Sedan   \n",
       "\n",
       "                            Q10                                   Q11  \\\n",
       "0  Under 20 miles / under 32 km             When I stop every time!!!   \n",
       "1                           NaN                                   NaN   \n",
       "2  Under 20 miles / under 32 km  When I am driving, I wanna drink it    \n",
       "\n",
       "  Q11 - Sentiment Polarity Q11 - Sentiment Score Q11 - Sentiment Q11 - Topics  \\\n",
       "0                      0.0                  -7.0        Negative      Unknown   \n",
       "1                      NaN                   NaN             NaN          NaN   \n",
       "2                      0.0                  -1.0        Negative      Unknown   \n",
       "\n",
       "                                  address country state  \n",
       "0  Thurston, Ann Arbor, MI, United States     USA    MI  \n",
       "1  Thurston, Ann Arbor, MI, United States     USA    MI  \n",
       "2  Thurston, Ann Arbor, MI, United States     USA    MI  \n",
       "\n",
       "[3 rows x 37 columns]"
      ]
     },
     "execution_count": 3,
     "metadata": {},
     "output_type": "execute_result"
    }
   ],
   "source": [
    "# Complete results\n",
    "comparisons = pd.read_csv('./temp_data/comparisons_US.csv', index_col=0)\n",
    "print('Dimensions: {}'.format(comparisons.shape))\n",
    "comparisons.head(3)"
   ]
  },
  {
   "cell_type": "code",
   "execution_count": 4,
   "metadata": {},
   "outputs": [
    {
     "name": "stdout",
     "output_type": "stream",
     "text": [
      "Dimensions: (48, 34)\n"
     ]
    },
    {
     "data": {
      "text/html": [
       "<div>\n",
       "<style scoped>\n",
       "    .dataframe tbody tr th:only-of-type {\n",
       "        vertical-align: middle;\n",
       "    }\n",
       "\n",
       "    .dataframe tbody tr th {\n",
       "        vertical-align: top;\n",
       "    }\n",
       "\n",
       "    .dataframe thead th {\n",
       "        text-align: right;\n",
       "    }\n",
       "</style>\n",
       "<table border=\"1\" class=\"dataframe\">\n",
       "  <thead>\n",
       "    <tr style=\"text-align: right;\">\n",
       "      <th></th>\n",
       "      <th>StartDate</th>\n",
       "      <th>EndDate</th>\n",
       "      <th>Status</th>\n",
       "      <th>IPAddress</th>\n",
       "      <th>Progress</th>\n",
       "      <th>Duration (in seconds)</th>\n",
       "      <th>Finished</th>\n",
       "      <th>RecordedDate</th>\n",
       "      <th>ResponseId</th>\n",
       "      <th>LocationLatitude</th>\n",
       "      <th>...</th>\n",
       "      <th>Q7_6</th>\n",
       "      <th>Q7_6_TEXT</th>\n",
       "      <th>Q8</th>\n",
       "      <th>Q9</th>\n",
       "      <th>Q10</th>\n",
       "      <th>Q11</th>\n",
       "      <th>mTurk</th>\n",
       "      <th>address</th>\n",
       "      <th>country</th>\n",
       "      <th>state</th>\n",
       "    </tr>\n",
       "  </thead>\n",
       "  <tbody>\n",
       "    <tr>\n",
       "      <th>0</th>\n",
       "      <td>2019-03-31 21:18:11</td>\n",
       "      <td>2019-03-31 21:19:03</td>\n",
       "      <td>IP Address</td>\n",
       "      <td>207.252.166.132</td>\n",
       "      <td>100</td>\n",
       "      <td>51</td>\n",
       "      <td>True</td>\n",
       "      <td>2019-03-31 21:19:03</td>\n",
       "      <td>R_2QnRVvY7GZimmGR</td>\n",
       "      <td>40.036896</td>\n",
       "      <td>...</td>\n",
       "      <td>Neutral</td>\n",
       "      <td>none</td>\n",
       "      <td>Between 6 to 10 cups</td>\n",
       "      <td>SUV</td>\n",
       "      <td>21-40 miles / 33-64 km</td>\n",
       "      <td>when unable to stop for water</td>\n",
       "      <td>369467</td>\n",
       "      <td>Oxford Circle-Castor, Philadelphia, PA, United...</td>\n",
       "      <td>USA</td>\n",
       "      <td>PA</td>\n",
       "    </tr>\n",
       "    <tr>\n",
       "      <th>1</th>\n",
       "      <td>2019-03-31 21:18:06</td>\n",
       "      <td>2019-03-31 21:19:20</td>\n",
       "      <td>IP Address</td>\n",
       "      <td>67.82.203.34</td>\n",
       "      <td>100</td>\n",
       "      <td>74</td>\n",
       "      <td>True</td>\n",
       "      <td>2019-03-31 21:19:20</td>\n",
       "      <td>R_BX7emaOxCAVnHCF</td>\n",
       "      <td>40.762100</td>\n",
       "      <td>...</td>\n",
       "      <td>Neutral</td>\n",
       "      <td>NaN</td>\n",
       "      <td>Between 6 to 10 cups</td>\n",
       "      <td>Sedan</td>\n",
       "      <td>Under 20 miles / under 32 km</td>\n",
       "      <td>Emergencies only.</td>\n",
       "      <td>929014</td>\n",
       "      <td>Deer Park, Babylon, NY, United States</td>\n",
       "      <td>USA</td>\n",
       "      <td>NY</td>\n",
       "    </tr>\n",
       "    <tr>\n",
       "      <th>2</th>\n",
       "      <td>2019-03-31 21:18:33</td>\n",
       "      <td>2019-03-31 21:19:41</td>\n",
       "      <td>IP Address</td>\n",
       "      <td>47.33.156.20</td>\n",
       "      <td>100</td>\n",
       "      <td>67</td>\n",
       "      <td>True</td>\n",
       "      <td>2019-03-31 21:19:41</td>\n",
       "      <td>R_2SHn2jvj2NzToxd</td>\n",
       "      <td>46.059402</td>\n",
       "      <td>...</td>\n",
       "      <td>NaN</td>\n",
       "      <td>NaN</td>\n",
       "      <td>Between 1 to 5 cups</td>\n",
       "      <td>Sedan</td>\n",
       "      <td>Under 20 miles / under 32 km</td>\n",
       "      <td>When I got thirsty during long drives</td>\n",
       "      <td>960812</td>\n",
       "      <td>Walla Walla, WA, United States</td>\n",
       "      <td>USA</td>\n",
       "      <td>WA</td>\n",
       "    </tr>\n",
       "  </tbody>\n",
       "</table>\n",
       "<p>3 rows × 34 columns</p>\n",
       "</div>"
      ],
      "text/plain": [
       "             StartDate              EndDate      Status        IPAddress  \\\n",
       "0  2019-03-31 21:18:11  2019-03-31 21:19:03  IP Address  207.252.166.132   \n",
       "1  2019-03-31 21:18:06  2019-03-31 21:19:20  IP Address     67.82.203.34   \n",
       "2  2019-03-31 21:18:33  2019-03-31 21:19:41  IP Address     47.33.156.20   \n",
       "\n",
       "   Progress  Duration (in seconds)  Finished         RecordedDate  \\\n",
       "0       100                     51      True  2019-03-31 21:19:03   \n",
       "1       100                     74      True  2019-03-31 21:19:20   \n",
       "2       100                     67      True  2019-03-31 21:19:41   \n",
       "\n",
       "          ResponseId  LocationLatitude  ...     Q7_6 Q7_6_TEXT  \\\n",
       "0  R_2QnRVvY7GZimmGR         40.036896  ...  Neutral      none   \n",
       "1  R_BX7emaOxCAVnHCF         40.762100  ...  Neutral       NaN   \n",
       "2  R_2SHn2jvj2NzToxd         46.059402  ...      NaN       NaN   \n",
       "\n",
       "                     Q8     Q9                           Q10  \\\n",
       "0  Between 6 to 10 cups    SUV        21-40 miles / 33-64 km   \n",
       "1  Between 6 to 10 cups  Sedan  Under 20 miles / under 32 km   \n",
       "2   Between 1 to 5 cups  Sedan  Under 20 miles / under 32 km   \n",
       "\n",
       "                                     Q11   mTurk  \\\n",
       "0          when unable to stop for water  369467   \n",
       "1                      Emergencies only.  929014   \n",
       "2  When I got thirsty during long drives  960812   \n",
       "\n",
       "                                             address country state  \n",
       "0  Oxford Circle-Castor, Philadelphia, PA, United...     USA    PA  \n",
       "1              Deer Park, Babylon, NY, United States     USA    NY  \n",
       "2                     Walla Walla, WA, United States     USA    WA  \n",
       "\n",
       "[3 rows x 34 columns]"
      ]
     },
     "execution_count": 4,
     "metadata": {},
     "output_type": "execute_result"
    }
   ],
   "source": [
    "comparisons_mTurk = pd.read_csv('./temp_data/comparisons_US(mTurk).csv', index_col=0)\n",
    "print('Dimensions: {}'.format(comparisons_mTurk.shape))\n",
    "comparisons_mTurk.head(3)"
   ]
  },
  {
   "cell_type": "code",
   "execution_count": 5,
   "metadata": {},
   "outputs": [
    {
     "data": {
      "text/plain": [
       "['Q11 - Sentiment Score',\n",
       " 'Q11 - Topics',\n",
       " 'Q11 - Sentiment',\n",
       " 'Q11 - Sentiment Polarity']"
      ]
     },
     "execution_count": 5,
     "metadata": {},
     "output_type": "execute_result"
    }
   ],
   "source": [
    "# The non Mturk responses have more columns\n",
    "c1 = set(comparisons.columns)\n",
    "c2 = set(comparisons_mTurk.columns)\n",
    "drop_col = list(c1.difference(c2))\n",
    "drop_col"
   ]
  },
  {
   "cell_type": "code",
   "execution_count": 6,
   "metadata": {},
   "outputs": [
    {
     "data": {
      "text/plain": [
       "(61, 33)"
      ]
     },
     "execution_count": 6,
     "metadata": {},
     "output_type": "execute_result"
    }
   ],
   "source": [
    "# Remove these columns to combine the two data tables\n",
    "comparisons.drop(columns=drop_col, axis=1, inplace=True)\n",
    "comparisons.shape"
   ]
  },
  {
   "cell_type": "code",
   "execution_count": 7,
   "metadata": {},
   "outputs": [
    {
     "data": {
      "text/plain": [
       "['mTurk']"
      ]
     },
     "execution_count": 7,
     "metadata": {},
     "output_type": "execute_result"
    }
   ],
   "source": [
    "# The mTurk responses have the extra mTurk ID column\n",
    "drop_col = list(c2.difference(c1))\n",
    "drop_col"
   ]
  },
  {
   "cell_type": "code",
   "execution_count": 8,
   "metadata": {},
   "outputs": [
    {
     "data": {
      "text/plain": [
       "(48, 33)"
      ]
     },
     "execution_count": 8,
     "metadata": {},
     "output_type": "execute_result"
    }
   ],
   "source": [
    "# Remove \n",
    "comparisons_mTurk.drop(columns=drop_col, axis=1, inplace=True)\n",
    "comparisons_mTurk.shape"
   ]
  },
  {
   "cell_type": "code",
   "execution_count": 10,
   "metadata": {},
   "outputs": [
    {
     "name": "stdout",
     "output_type": "stream",
     "text": [
      "Dimensions: (109, 33)\n"
     ]
    }
   ],
   "source": [
    "# Combine \n",
    "full_results_US = comparisons.append(comparisons_mTurk)\n",
    "full_results_US.reset_index(drop=True, inplace=True)\n",
    "print(\"Dimensions: {}\".format(full_results_US.shape))"
   ]
  },
  {
   "cell_type": "code",
   "execution_count": 18,
   "metadata": {},
   "outputs": [
    {
     "name": "stdout",
     "output_type": "stream",
     "text": [
      "MI: 41 or 37.61%\n",
      "CA: 10 or 9.17%\n",
      "PA: 9 or 8.26%\n",
      "IL: 4 or 3.67%\n"
     ]
    }
   ],
   "source": [
    "state = full_results_US['state'].value_counts().values\n",
    "print('MI: {} or {:.2f}%'.format(state[0], (state[0] / full_results_US.shape[0])*100))\n",
    "print('CA: {} or {:.2f}%'.format(state[1], (state[1] / full_results_US.shape[0])*100))\n",
    "print('PA: {} or {:.2f}%'.format(state[2], (state[2] / full_results_US.shape[0])*100))\n",
    "print('IL: {} or {:.2f}%'.format(state[3], (state[3] / full_results_US.shape[0])*100))"
   ]
  },
  {
   "cell_type": "code",
   "execution_count": 11,
   "metadata": {},
   "outputs": [
    {
     "data": {
      "image/png": "[encoded data removed]",
      "text/plain": [
       "<Figure size 504x360 with 1 Axes>"
      ]
     },
     "metadata": {
      "needs_background": "light"
     },
     "output_type": "display_data"
    }
   ],
   "source": [
    "# Distribution by state \n",
    "data = full_results_US['state'].value_counts()\n",
    "x = data.index\n",
    "y = data.values\n",
    "plt.figure(1, figsize=(7,5))\n",
    "plt.bar(x, y)\n",
    "plt.title(\"Distribution of Responses by State{}\".format('(full)'))\n",
    "fig1 = plt.gcf() # get current figure\n",
    "fig1.savefig(\"./images/responses_by_state{}.png\".format('(full)'))\n",
    "# plt.show() should come after savefig()\n",
    "plt.show()"
   ]
  },
  {
   "cell_type": "code",
   "execution_count": 12,
   "metadata": {},
   "outputs": [],
   "source": [
    "# Save\n",
    "full_results_US.to_csv('./temp_data/comparisons_US(full).csv')"
   ]
  },
  {
   "cell_type": "markdown",
   "metadata": {},
   "source": [
    "## Prepare the data for BradleyTerry Model Input"
   ]
  },
  {
   "cell_type": "code",
   "execution_count": 121,
   "metadata": {},
   "outputs": [
    {
     "name": "stdout",
     "output_type": "stream",
     "text": [
      "Dimensions: (6, 4)\n"
     ]
    },
    {
     "data": {
      "text/html": [
       "<div>\n",
       "<style scoped>\n",
       "    .dataframe tbody tr th:only-of-type {\n",
       "        vertical-align: middle;\n",
       "    }\n",
       "\n",
       "    .dataframe tbody tr th {\n",
       "        vertical-align: top;\n",
       "    }\n",
       "\n",
       "    .dataframe thead th {\n",
       "        text-align: right;\n",
       "    }\n",
       "</style>\n",
       "<table border=\"1\" class=\"dataframe\">\n",
       "  <thead>\n",
       "    <tr style=\"text-align: right;\">\n",
       "      <th></th>\n",
       "      <th>source1</th>\n",
       "      <th>source2</th>\n",
       "      <th>win1</th>\n",
       "      <th>win2</th>\n",
       "    </tr>\n",
       "  </thead>\n",
       "  <tbody>\n",
       "    <tr>\n",
       "      <th>0</th>\n",
       "      <td>Public water fountain</td>\n",
       "      <td>Drinkable water generated from a car filtratio...</td>\n",
       "      <td>69</td>\n",
       "      <td>40</td>\n",
       "    </tr>\n",
       "    <tr>\n",
       "      <th>1</th>\n",
       "      <td>Tap water from home</td>\n",
       "      <td>Public water fountain</td>\n",
       "      <td>85</td>\n",
       "      <td>24</td>\n",
       "    </tr>\n",
       "    <tr>\n",
       "      <th>2</th>\n",
       "      <td>Bottled water</td>\n",
       "      <td>Public water fountain</td>\n",
       "      <td>75</td>\n",
       "      <td>34</td>\n",
       "    </tr>\n",
       "    <tr>\n",
       "      <th>3</th>\n",
       "      <td>Tap water from home</td>\n",
       "      <td>Drinkable water generated from a car filtratio...</td>\n",
       "      <td>84</td>\n",
       "      <td>25</td>\n",
       "    </tr>\n",
       "    <tr>\n",
       "      <th>4</th>\n",
       "      <td>Bottled water</td>\n",
       "      <td>Drinkable water generated from a car filtratio...</td>\n",
       "      <td>85</td>\n",
       "      <td>24</td>\n",
       "    </tr>\n",
       "    <tr>\n",
       "      <th>5</th>\n",
       "      <td>Bottled water</td>\n",
       "      <td>Tap water from home</td>\n",
       "      <td>57</td>\n",
       "      <td>52</td>\n",
       "    </tr>\n",
       "  </tbody>\n",
       "</table>\n",
       "</div>"
      ],
      "text/plain": [
       "                 source1                                            source2  \\\n",
       "0  Public water fountain  Drinkable water generated from a car filtratio...   \n",
       "1    Tap water from home                              Public water fountain   \n",
       "2          Bottled water                              Public water fountain   \n",
       "3    Tap water from home  Drinkable water generated from a car filtratio...   \n",
       "4          Bottled water  Drinkable water generated from a car filtratio...   \n",
       "5          Bottled water                                Tap water from home   \n",
       "\n",
       "   win1  win2  \n",
       "0    69    40  \n",
       "1    85    24  \n",
       "2    75    34  \n",
       "3    84    25  \n",
       "4    85    24  \n",
       "5    57    52  "
      ]
     },
     "execution_count": 121,
     "metadata": {},
     "output_type": "execute_result"
    }
   ],
   "source": [
    "# Separate data for paired comparisons analysis \n",
    "paired_questions = ['Q1', 'Q2', 'Q3', 'Q4', 'Q5', 'Q6']\n",
    "paired_comparisons = full_results_US[paired_questions]\n",
    "columns = ['source1', 'source2', 'win1', 'win2']\n",
    "rows = []\n",
    "\n",
    "for i in paired_questions:\n",
    "    row = paired_comparisons[i].value_counts().index.tolist() \n",
    "    row = row + paired_comparisons[i].value_counts().values.tolist()\n",
    "    rows.append(row)\n",
    "\n",
    "win_table = pd.DataFrame(rows, columns=columns)\n",
    "print(\"Dimensions: {}\".format(win_table.shape))\n",
    "win_table"
   ]
  },
  {
   "cell_type": "code",
   "execution_count": 122,
   "metadata": {},
   "outputs": [],
   "source": [
    "# Save\n",
    "win_table.to_csv('./output/win_table_US(full).csv')"
   ]
  },
  {
   "cell_type": "markdown",
   "metadata": {},
   "source": [
    "# Format data for BTmodel"
   ]
  },
  {
   "cell_type": "code",
   "execution_count": 134,
   "metadata": {},
   "outputs": [
    {
     "data": {
      "text/html": [
       "<div>\n",
       "<style scoped>\n",
       "    .dataframe tbody tr th:only-of-type {\n",
       "        vertical-align: middle;\n",
       "    }\n",
       "\n",
       "    .dataframe tbody tr th {\n",
       "        vertical-align: top;\n",
       "    }\n",
       "\n",
       "    .dataframe thead th {\n",
       "        text-align: right;\n",
       "    }\n",
       "</style>\n",
       "<table border=\"1\" class=\"dataframe\">\n",
       "  <thead>\n",
       "    <tr style=\"text-align: right;\">\n",
       "      <th></th>\n",
       "      <th>source1</th>\n",
       "      <th>source2</th>\n",
       "      <th>win1</th>\n",
       "      <th>win2</th>\n",
       "    </tr>\n",
       "  </thead>\n",
       "  <tbody>\n",
       "    <tr>\n",
       "      <th>0</th>\n",
       "      <td>Public water fountain</td>\n",
       "      <td>Drinkable water generated from a car filtratio...</td>\n",
       "      <td>69</td>\n",
       "      <td>40</td>\n",
       "    </tr>\n",
       "    <tr>\n",
       "      <th>1</th>\n",
       "      <td>Tap water from home</td>\n",
       "      <td>Public water fountain</td>\n",
       "      <td>85</td>\n",
       "      <td>24</td>\n",
       "    </tr>\n",
       "    <tr>\n",
       "      <th>2</th>\n",
       "      <td>Bottled water</td>\n",
       "      <td>Public water fountain</td>\n",
       "      <td>75</td>\n",
       "      <td>34</td>\n",
       "    </tr>\n",
       "    <tr>\n",
       "      <th>3</th>\n",
       "      <td>Tap water from home</td>\n",
       "      <td>Drinkable water generated from a car filtratio...</td>\n",
       "      <td>84</td>\n",
       "      <td>25</td>\n",
       "    </tr>\n",
       "    <tr>\n",
       "      <th>4</th>\n",
       "      <td>Bottled water</td>\n",
       "      <td>Drinkable water generated from a car filtratio...</td>\n",
       "      <td>85</td>\n",
       "      <td>24</td>\n",
       "    </tr>\n",
       "    <tr>\n",
       "      <th>5</th>\n",
       "      <td>Bottled water</td>\n",
       "      <td>Tap water from home</td>\n",
       "      <td>57</td>\n",
       "      <td>52</td>\n",
       "    </tr>\n",
       "  </tbody>\n",
       "</table>\n",
       "</div>"
      ],
      "text/plain": [
       "                 source1                                            source2  \\\n",
       "0  Public water fountain  Drinkable water generated from a car filtratio...   \n",
       "1    Tap water from home                              Public water fountain   \n",
       "2          Bottled water                              Public water fountain   \n",
       "3    Tap water from home  Drinkable water generated from a car filtratio...   \n",
       "4          Bottled water  Drinkable water generated from a car filtratio...   \n",
       "5          Bottled water                                Tap water from home   \n",
       "\n",
       "   win1  win2  \n",
       "0    69    40  \n",
       "1    85    24  \n",
       "2    75    34  \n",
       "3    84    25  \n",
       "4    85    24  \n",
       "5    57    52  "
      ]
     },
     "execution_count": 134,
     "metadata": {},
     "output_type": "execute_result"
    }
   ],
   "source": [
    "win_table = pd.read_csv('./output/win_table_US(full).csv', index_col=0)\n",
    "win_table.head(10)"
   ]
  },
  {
   "cell_type": "code",
   "execution_count": 135,
   "metadata": {},
   "outputs": [
    {
     "name": "stdout",
     "output_type": "stream",
     "text": [
      "['Bottled water'] \n",
      " ['Drinkable water generated from a car filtration system']\n"
     ]
    }
   ],
   "source": [
    "source1 = set(win_table['source1'].unique())\n",
    "source2 = set(win_table['source2'].unique())\n",
    "col1 = list(source1.difference(source2))\n",
    "col2 = list(source2.difference(source1))\n",
    "print(col1,'\\n', col2)"
   ]
  },
  {
   "cell_type": "code",
   "execution_count": 136,
   "metadata": {},
   "outputs": [
    {
     "name": "stdout",
     "output_type": "stream",
     "text": [
      "First index of 'Bottled water' in column 'source1': 2\n",
      "First index of 'Drinkable water generated from a car filtration system' in column 'source2': 0\n"
     ]
    }
   ],
   "source": [
    "# Make sure each option appears at least once in both columns\n",
    "out1 = win_table['source1'].str.contains(col1[0]).idxmax()\n",
    "out2 = win_table['source2'].str.contains(col2[0]).idxmax()\n",
    "print(\"First index of '{}' in column 'source1': {}\".format(col1[0], out1))\n",
    "print(\"First index of '{}' in column 'source2': {}\".format(col2[0], out2))\n",
    "\n",
    "for i in [out1, out2]:\n",
    "    source_left = win_table.iloc[i, 0]\n",
    "    win_left = win_table.iloc[i, 2]\n",
    "    win_table.iloc[i, 0] = win_table.iloc[i, 1]\n",
    "    win_table.iloc[i, 2] = win_table.iloc[i, 3]\n",
    "    win_table.iloc[i, 1] = source_left\n",
    "    win_table.iloc[i, 3] = win_left"
   ]
  },
  {
   "cell_type": "code",
   "execution_count": 137,
   "metadata": {},
   "outputs": [
    {
     "name": "stdout",
     "output_type": "stream",
     "text": [
      "Unique sources in 'source1' column: 4\n",
      "Unique sources in 'source2' column: 4\n",
      "Total number of unique sources in data: 4\n",
      "The 'source2' column is missing: set()\n",
      "The 'source1' column is missing: set()\n"
     ]
    }
   ],
   "source": [
    "print(\"Unique sources in '{}' column: {}\".format('source1', win_table['source1'].nunique()))\n",
    "source_left = set(win_table['source1'])\n",
    "\n",
    "print(\"Unique sources in '{}' column: {}\".format('source2', win_table['source2'].nunique()))\n",
    "source_right = set(win_table['source2'])\n",
    "\n",
    "# Unique sources in both columns\n",
    "all_sources = source_left.union(source_right)\n",
    "print(\"Total number of unique sources in data: {}\".format(len(all_sources)))\n",
    "\n",
    "# Check if both 'source1' and 'source2' have the same number of unique sources\n",
    "# Find (if any) the missing drug\n",
    "print(\"The '{}' column is missing: {}\".format('source2', source_left.difference(source_right)))\n",
    "print(\"The '{}' column is missing: {}\".format('source1', source_right.difference(source_left)))"
   ]
  },
  {
   "cell_type": "code",
   "execution_count": 138,
   "metadata": {},
   "outputs": [],
   "source": [
    "# Save\n",
    "win_table.to_csv('./output/win_table_US(full).csv', index=False)"
   ]
  }
 ],
 "metadata": {
  "kernelspec": {
   "display_name": "Python 3",
   "language": "python",
   "name": "python3"
  },
  "language_info": {
   "codemirror_mode": {
    "name": "ipython",
    "version": 3
   },
   "file_extension": ".py",
   "mimetype": "text/x-python",
   "name": "python",
   "nbconvert_exporter": "python",
   "pygments_lexer": "ipython3",
   "version": "3.7.0"
  }
 },
 "nbformat": 4,
 "nbformat_minor": 2
}
