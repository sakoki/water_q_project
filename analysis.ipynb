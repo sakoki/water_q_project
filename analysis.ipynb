{
 "cells": [
  {
   "cell_type": "markdown",
   "metadata": {},
   "source": [
    "# Data analysis \n",
    "\n",
    "This notebook takes the filtered data from the data preparation notebook and conducts further analysis\n",
    "\n",
    "*Author: Koki Sasagawa*  \n",
    "*Date: 4/10/2019*"
   ]
  },
  {
   "cell_type": "code",
   "execution_count": 1,
   "metadata": {},
   "outputs": [],
   "source": [
    "import pandas as pd\n",
    "import numpy as np\n",
    "import os\n",
    "import nltk\n",
    "import matplotlib.pyplot as plt\n",
    "import seaborn as sns\n",
    "\n",
    "%matplotlib inline"
   ]
  },
  {
   "cell_type": "code",
   "execution_count": 2,
   "metadata": {},
   "outputs": [
    {
     "name": "stdout",
     "output_type": "stream",
     "text": [
      "0 .DS_Store\n",
      "1 3-min-water-safety-survey-paid_April 5, 2019_13.26.csv\n",
      "2 comparisons_US(full_MI).csv\n",
      "3 comparisons_US(full).csv\n",
      "4 comparisons_US(full_NON_MI).csv\n",
      "5 comparisons(mTurk).csv\n",
      "6 3-min-water-safety-survey_April 6, 2019_11.06.csv\n",
      "7 comparisons.csv\n",
      "8 comparisons_US(mTurk).csv\n",
      "9 NON_US\n",
      "10 comparisons_US.csv\n"
     ]
    }
   ],
   "source": [
    "files = os.listdir('./temp_data/')\n",
    "for i, fname in enumerate(files):\n",
    "    print(i, fname)"
   ]
  },
  {
   "cell_type": "code",
   "execution_count": 3,
   "metadata": {},
   "outputs": [
    {
     "name": "stdout",
     "output_type": "stream",
     "text": [
      "(109, 33)\n"
     ]
    },
    {
     "data": {
      "text/html": [
       "<div>\n",
       "<style scoped>\n",
       "    .dataframe tbody tr th:only-of-type {\n",
       "        vertical-align: middle;\n",
       "    }\n",
       "\n",
       "    .dataframe tbody tr th {\n",
       "        vertical-align: top;\n",
       "    }\n",
       "\n",
       "    .dataframe thead th {\n",
       "        text-align: right;\n",
       "    }\n",
       "</style>\n",
       "<table border=\"1\" class=\"dataframe\">\n",
       "  <thead>\n",
       "    <tr style=\"text-align: right;\">\n",
       "      <th></th>\n",
       "      <th>StartDate</th>\n",
       "      <th>EndDate</th>\n",
       "      <th>Status</th>\n",
       "      <th>IPAddress</th>\n",
       "      <th>Progress</th>\n",
       "      <th>Duration (in seconds)</th>\n",
       "      <th>Finished</th>\n",
       "      <th>RecordedDate</th>\n",
       "      <th>ResponseId</th>\n",
       "      <th>LocationLatitude</th>\n",
       "      <th>...</th>\n",
       "      <th>Q7_5</th>\n",
       "      <th>Q7_6</th>\n",
       "      <th>Q7_6_TEXT</th>\n",
       "      <th>Q8</th>\n",
       "      <th>Q9</th>\n",
       "      <th>Q10</th>\n",
       "      <th>Q11</th>\n",
       "      <th>address</th>\n",
       "      <th>country</th>\n",
       "      <th>state</th>\n",
       "    </tr>\n",
       "  </thead>\n",
       "  <tbody>\n",
       "    <tr>\n",
       "      <th>0</th>\n",
       "      <td>2019-03-31 16:57:20</td>\n",
       "      <td>2019-03-31 17:01:08</td>\n",
       "      <td>IP Address</td>\n",
       "      <td>35.2.149.130</td>\n",
       "      <td>100</td>\n",
       "      <td>228</td>\n",
       "      <td>True</td>\n",
       "      <td>2019-03-31 17:01:08</td>\n",
       "      <td>R_1IK0hEA0Mide4IB</td>\n",
       "      <td>42.306793</td>\n",
       "      <td>...</td>\n",
       "      <td>Extremely Important</td>\n",
       "      <td>NaN</td>\n",
       "      <td>NaN</td>\n",
       "      <td>Between 11 to 15 cups</td>\n",
       "      <td>Sedan</td>\n",
       "      <td>Under 20 miles / under 32 km</td>\n",
       "      <td>When I stop every time!!!</td>\n",
       "      <td>Thurston, Ann Arbor, MI, United States</td>\n",
       "      <td>USA</td>\n",
       "      <td>MI</td>\n",
       "    </tr>\n",
       "    <tr>\n",
       "      <th>1</th>\n",
       "      <td>2019-03-31 17:02:24</td>\n",
       "      <td>2019-03-31 17:04:10</td>\n",
       "      <td>IP Address</td>\n",
       "      <td>35.1.136.17</td>\n",
       "      <td>100</td>\n",
       "      <td>106</td>\n",
       "      <td>True</td>\n",
       "      <td>2019-03-31 17:04:11</td>\n",
       "      <td>R_2AKgAVgBovymcHp</td>\n",
       "      <td>42.306793</td>\n",
       "      <td>...</td>\n",
       "      <td>Important</td>\n",
       "      <td>NaN</td>\n",
       "      <td>NaN</td>\n",
       "      <td>Between 1 to 5 cups</td>\n",
       "      <td>I do not drive</td>\n",
       "      <td>NaN</td>\n",
       "      <td>NaN</td>\n",
       "      <td>Thurston, Ann Arbor, MI, United States</td>\n",
       "      <td>USA</td>\n",
       "      <td>MI</td>\n",
       "    </tr>\n",
       "    <tr>\n",
       "      <th>2</th>\n",
       "      <td>2019-03-31 16:58:11</td>\n",
       "      <td>2019-03-31 17:04:48</td>\n",
       "      <td>IP Address</td>\n",
       "      <td>35.1.88.101</td>\n",
       "      <td>100</td>\n",
       "      <td>397</td>\n",
       "      <td>True</td>\n",
       "      <td>2019-03-31 17:04:49</td>\n",
       "      <td>R_1f8Jsm0KyK8p4hl</td>\n",
       "      <td>42.306793</td>\n",
       "      <td>...</td>\n",
       "      <td>Important</td>\n",
       "      <td>NaN</td>\n",
       "      <td>NaN</td>\n",
       "      <td>Between 6 to 10 cups</td>\n",
       "      <td>Sedan</td>\n",
       "      <td>Under 20 miles / under 32 km</td>\n",
       "      <td>When I am driving, I wanna drink it</td>\n",
       "      <td>Thurston, Ann Arbor, MI, United States</td>\n",
       "      <td>USA</td>\n",
       "      <td>MI</td>\n",
       "    </tr>\n",
       "  </tbody>\n",
       "</table>\n",
       "<p>3 rows × 33 columns</p>\n",
       "</div>"
      ],
      "text/plain": [
       "             StartDate              EndDate      Status     IPAddress  \\\n",
       "0  2019-03-31 16:57:20  2019-03-31 17:01:08  IP Address  35.2.149.130   \n",
       "1  2019-03-31 17:02:24  2019-03-31 17:04:10  IP Address   35.1.136.17   \n",
       "2  2019-03-31 16:58:11  2019-03-31 17:04:48  IP Address   35.1.88.101   \n",
       "\n",
       "   Progress  Duration (in seconds)  Finished         RecordedDate  \\\n",
       "0       100                    228      True  2019-03-31 17:01:08   \n",
       "1       100                    106      True  2019-03-31 17:04:11   \n",
       "2       100                    397      True  2019-03-31 17:04:49   \n",
       "\n",
       "          ResponseId  LocationLatitude  ...                 Q7_5 Q7_6  \\\n",
       "0  R_1IK0hEA0Mide4IB         42.306793  ...  Extremely Important  NaN   \n",
       "1  R_2AKgAVgBovymcHp         42.306793  ...            Important  NaN   \n",
       "2  R_1f8Jsm0KyK8p4hl         42.306793  ...            Important  NaN   \n",
       "\n",
       "  Q7_6_TEXT                     Q8              Q9  \\\n",
       "0       NaN  Between 11 to 15 cups           Sedan   \n",
       "1       NaN    Between 1 to 5 cups  I do not drive   \n",
       "2       NaN   Between 6 to 10 cups           Sedan   \n",
       "\n",
       "                            Q10                                   Q11  \\\n",
       "0  Under 20 miles / under 32 km             When I stop every time!!!   \n",
       "1                           NaN                                   NaN   \n",
       "2  Under 20 miles / under 32 km  When I am driving, I wanna drink it    \n",
       "\n",
       "                                  address country state  \n",
       "0  Thurston, Ann Arbor, MI, United States     USA    MI  \n",
       "1  Thurston, Ann Arbor, MI, United States     USA    MI  \n",
       "2  Thurston, Ann Arbor, MI, United States     USA    MI  \n",
       "\n",
       "[3 rows x 33 columns]"
      ]
     },
     "execution_count": 3,
     "metadata": {},
     "output_type": "execute_result"
    }
   ],
   "source": [
    "survey = pd.read_csv('./temp_data/comparisons_US(full).csv', index_col = 0)\n",
    "print(survey.shape)\n",
    "survey.head(3)"
   ]
  },
  {
   "cell_type": "markdown",
   "metadata": {},
   "source": [
    "## Analyze Q7 reponses on factors impacting water quality"
   ]
  },
  {
   "cell_type": "code",
   "execution_count": 4,
   "metadata": {},
   "outputs": [
    {
     "data": {
      "text/plain": [
       "StartDate                 0\n",
       "EndDate                   0\n",
       "Status                    0\n",
       "IPAddress                 0\n",
       "Progress                  0\n",
       "Duration (in seconds)     0\n",
       "Finished                  0\n",
       "RecordedDate              0\n",
       "ResponseId                0\n",
       "LocationLatitude          0\n",
       "LocationLongitude         0\n",
       "DistributionChannel       0\n",
       "UserLanguage              0\n",
       "Q1                        0\n",
       "Q2                        0\n",
       "Q3                        0\n",
       "Q4                        0\n",
       "Q5                        0\n",
       "Q6                        0\n",
       "Q7_1                      0\n",
       "Q7_2                      0\n",
       "Q7_3                      0\n",
       "Q7_4                      1\n",
       "Q7_5                      0\n",
       "Q7_6                     73\n",
       "Q7_6_TEXT                89\n",
       "Q8                        0\n",
       "Q9                        0\n",
       "Q10                      13\n",
       "Q11                      18\n",
       "address                   0\n",
       "country                   0\n",
       "state                     0\n",
       "dtype: int64"
      ]
     },
     "execution_count": 4,
     "metadata": {},
     "output_type": "execute_result"
    }
   ],
   "source": [
    "# Check for missing values\n",
    "survey.isna().sum()"
   ]
  },
  {
   "cell_type": "markdown",
   "metadata": {},
   "source": [
    "We expect Q7_6, Q7_6_TEXT to have some empty responses as these were optional. Q10 and Q11 can also be expected to contain missing values as these questions were not accessible if the driver selected \"I do not drive\" as a response to Q9. \n",
    "\n",
    "Q7_4 should not be missing a response. Since there is only 1 instance of a row with missing values, we will simply omit this row from the data. "
   ]
  },
  {
   "cell_type": "code",
   "execution_count": 5,
   "metadata": {},
   "outputs": [
    {
     "data": {
      "text/plain": [
       "[70]"
      ]
     },
     "execution_count": 5,
     "metadata": {},
     "output_type": "execute_result"
    }
   ],
   "source": [
    "# Get the row index that contains the missing response in Q7_4.\n",
    "rows = survey[survey['Q7_4'].isna()].index.tolist()\n",
    "rows"
   ]
  },
  {
   "cell_type": "code",
   "execution_count": 6,
   "metadata": {},
   "outputs": [
    {
     "name": "stdout",
     "output_type": "stream",
     "text": [
      "Dimensions: (108, 33)\n"
     ]
    }
   ],
   "source": [
    "# Drop this row\n",
    "# The dimension should have 1 less row than previous \n",
    "survey = survey.drop(index=rows, axis=0)\n",
    "survey.reset_index(drop=True, inplace=True)\n",
    "print(\"Dimensions: {}\".format(survey.shape))"
   ]
  },
  {
   "cell_type": "code",
   "execution_count": 7,
   "metadata": {},
   "outputs": [
    {
     "name": "stdout",
     "output_type": "stream",
     "text": [
      "Dimensions: (108, 7)\n"
     ]
    }
   ],
   "source": [
    "Q7_responses = survey[['Q7_1', 'Q7_2', 'Q7_3', 'Q7_4', 'Q7_5', 'Q7_6', 'Q7_6_TEXT']]\n",
    "print(\"Dimensions: {}\".format(Q7_responses.shape))"
   ]
  },
  {
   "cell_type": "code",
   "execution_count": 8,
   "metadata": {},
   "outputs": [
    {
     "data": {
      "text/html": [
       "<div>\n",
       "<style scoped>\n",
       "    .dataframe tbody tr th:only-of-type {\n",
       "        vertical-align: middle;\n",
       "    }\n",
       "\n",
       "    .dataframe tbody tr th {\n",
       "        vertical-align: top;\n",
       "    }\n",
       "\n",
       "    .dataframe thead th {\n",
       "        text-align: right;\n",
       "    }\n",
       "</style>\n",
       "<table border=\"1\" class=\"dataframe\">\n",
       "  <thead>\n",
       "    <tr style=\"text-align: right;\">\n",
       "      <th></th>\n",
       "      <th>Q7_1</th>\n",
       "      <th>Q7_2</th>\n",
       "      <th>Q7_3</th>\n",
       "      <th>Q7_4</th>\n",
       "      <th>Q7_5</th>\n",
       "      <th>Q7_6</th>\n",
       "      <th>Q7_6_TEXT</th>\n",
       "    </tr>\n",
       "  </thead>\n",
       "  <tbody>\n",
       "    <tr>\n",
       "      <th>0</th>\n",
       "      <td>Important</td>\n",
       "      <td>Extremely Important</td>\n",
       "      <td>Important</td>\n",
       "      <td>Extremely Important</td>\n",
       "      <td>Extremely Important</td>\n",
       "      <td>NaN</td>\n",
       "      <td>NaN</td>\n",
       "    </tr>\n",
       "    <tr>\n",
       "      <th>1</th>\n",
       "      <td>Important</td>\n",
       "      <td>Extremely Important</td>\n",
       "      <td>Important</td>\n",
       "      <td>Extremely Important</td>\n",
       "      <td>Important</td>\n",
       "      <td>NaN</td>\n",
       "      <td>NaN</td>\n",
       "    </tr>\n",
       "    <tr>\n",
       "      <th>2</th>\n",
       "      <td>Extremely Important</td>\n",
       "      <td>Extremely Important</td>\n",
       "      <td>Important</td>\n",
       "      <td>Extremely Important</td>\n",
       "      <td>Important</td>\n",
       "      <td>NaN</td>\n",
       "      <td>NaN</td>\n",
       "    </tr>\n",
       "    <tr>\n",
       "      <th>3</th>\n",
       "      <td>Extremely Important</td>\n",
       "      <td>Somewhat Important</td>\n",
       "      <td>Somewhat Important</td>\n",
       "      <td>Extremely Important</td>\n",
       "      <td>Important</td>\n",
       "      <td>Important</td>\n",
       "      <td>Myths/gossip about places with better/worse water</td>\n",
       "    </tr>\n",
       "    <tr>\n",
       "      <th>4</th>\n",
       "      <td>Important</td>\n",
       "      <td>Somewhat Important</td>\n",
       "      <td>Somewhat Not Important</td>\n",
       "      <td>Somewhat Important</td>\n",
       "      <td>Neutral</td>\n",
       "      <td>NaN</td>\n",
       "      <td>NaN</td>\n",
       "    </tr>\n",
       "  </tbody>\n",
       "</table>\n",
       "</div>"
      ],
      "text/plain": [
       "                  Q7_1                 Q7_2                    Q7_3  \\\n",
       "0            Important  Extremely Important               Important   \n",
       "1            Important  Extremely Important               Important   \n",
       "2  Extremely Important  Extremely Important               Important   \n",
       "3  Extremely Important   Somewhat Important      Somewhat Important   \n",
       "4            Important   Somewhat Important  Somewhat Not Important   \n",
       "\n",
       "                  Q7_4                 Q7_5       Q7_6  \\\n",
       "0  Extremely Important  Extremely Important        NaN   \n",
       "1  Extremely Important            Important        NaN   \n",
       "2  Extremely Important            Important        NaN   \n",
       "3  Extremely Important            Important  Important   \n",
       "4   Somewhat Important              Neutral        NaN   \n",
       "\n",
       "                                           Q7_6_TEXT  \n",
       "0                                                NaN  \n",
       "1                                                NaN  \n",
       "2                                                NaN  \n",
       "3  Myths/gossip about places with better/worse water  \n",
       "4                                                NaN  "
      ]
     },
     "execution_count": 8,
     "metadata": {},
     "output_type": "execute_result"
    }
   ],
   "source": [
    "Q7_responses.head()"
   ]
  },
  {
   "cell_type": "markdown",
   "metadata": {},
   "source": [
    "### Analyze themes that users felt were important"
   ]
  },
  {
   "cell_type": "code",
   "execution_count": 9,
   "metadata": {
    "scrolled": false
   },
   "outputs": [
    {
     "name": "stdout",
     "output_type": "stream",
     "text": [
      "Dimensions: (17, 2)\n"
     ]
    },
    {
     "name": "stderr",
     "output_type": "stream",
     "text": [
      "/Library/Frameworks/Python.framework/Versions/3.7/lib/python3.7/site-packages/ipykernel_launcher.py:3: SettingWithCopyWarning: \n",
      "A value is trying to be set on a copy of a slice from a DataFrame\n",
      "\n",
      "See the caveats in the documentation: http://pandas.pydata.org/pandas-docs/stable/indexing.html#indexing-view-versus-copy\n",
      "  This is separate from the ipykernel package so we can avoid doing imports until\n",
      "/Library/Frameworks/Python.framework/Versions/3.7/lib/python3.7/site-packages/ipykernel_launcher.py:16: SettingWithCopyWarning: \n",
      "A value is trying to be set on a copy of a slice from a DataFrame.\n",
      "Try using .loc[row_indexer,col_indexer] = value instead\n",
      "\n",
      "See the caveats in the documentation: http://pandas.pydata.org/pandas-docs/stable/indexing.html#indexing-view-versus-copy\n",
      "  app.launch_new_instance()\n"
     ]
    },
    {
     "data": {
      "text/html": [
       "<div>\n",
       "<style scoped>\n",
       "    .dataframe tbody tr th:only-of-type {\n",
       "        vertical-align: middle;\n",
       "    }\n",
       "\n",
       "    .dataframe tbody tr th {\n",
       "        vertical-align: top;\n",
       "    }\n",
       "\n",
       "    .dataframe thead th {\n",
       "        text-align: right;\n",
       "    }\n",
       "</style>\n",
       "<table border=\"1\" class=\"dataframe\">\n",
       "  <thead>\n",
       "    <tr style=\"text-align: right;\">\n",
       "      <th></th>\n",
       "      <th>Other (please specify)</th>\n",
       "      <th>Textbox Entry</th>\n",
       "    </tr>\n",
       "  </thead>\n",
       "  <tbody>\n",
       "    <tr>\n",
       "      <th>1</th>\n",
       "      <td>Extremely Important</td>\n",
       "      <td>sustainability</td>\n",
       "    </tr>\n",
       "    <tr>\n",
       "      <th>13</th>\n",
       "      <td>Extremely Important</td>\n",
       "      <td>water ph</td>\n",
       "    </tr>\n",
       "    <tr>\n",
       "      <th>3</th>\n",
       "      <td>Extremely Important</td>\n",
       "      <td>Water taste.</td>\n",
       "    </tr>\n",
       "    <tr>\n",
       "      <th>4</th>\n",
       "      <td>Extremely Important</td>\n",
       "      <td>Whether the water was filtered/treated or not</td>\n",
       "    </tr>\n",
       "    <tr>\n",
       "      <th>9</th>\n",
       "      <td>Extremely Important</td>\n",
       "      <td>Taste</td>\n",
       "    </tr>\n",
       "    <tr>\n",
       "      <th>0</th>\n",
       "      <td>Important</td>\n",
       "      <td>Myths/gossip about places with better/worse water</td>\n",
       "    </tr>\n",
       "    <tr>\n",
       "      <th>12</th>\n",
       "      <td>Important</td>\n",
       "      <td>if it is bottled, how old it is</td>\n",
       "    </tr>\n",
       "    <tr>\n",
       "      <th>10</th>\n",
       "      <td>Important</td>\n",
       "      <td>Taste</td>\n",
       "    </tr>\n",
       "    <tr>\n",
       "      <th>16</th>\n",
       "      <td>Important</td>\n",
       "      <td>Taste</td>\n",
       "    </tr>\n",
       "    <tr>\n",
       "      <th>6</th>\n",
       "      <td>Important</td>\n",
       "      <td>Source depletion</td>\n",
       "    </tr>\n",
       "    <tr>\n",
       "      <th>5</th>\n",
       "      <td>Important</td>\n",
       "      <td>Cost of obtaining the water</td>\n",
       "    </tr>\n",
       "    <tr>\n",
       "      <th>15</th>\n",
       "      <td>Important</td>\n",
       "      <td>hardness of water</td>\n",
       "    </tr>\n",
       "    <tr>\n",
       "      <th>11</th>\n",
       "      <td>Somewhat Important</td>\n",
       "      <td>Geographic Location</td>\n",
       "    </tr>\n",
       "    <tr>\n",
       "      <th>2</th>\n",
       "      <td>Somewhat Important</td>\n",
       "      <td>Basic understanding of technology</td>\n",
       "    </tr>\n",
       "    <tr>\n",
       "      <th>7</th>\n",
       "      <td>Neutral</td>\n",
       "      <td>none</td>\n",
       "    </tr>\n",
       "    <tr>\n",
       "      <th>14</th>\n",
       "      <td>Neutral</td>\n",
       "      <td>Filtration system</td>\n",
       "    </tr>\n",
       "    <tr>\n",
       "      <th>8</th>\n",
       "      <td>Neutral</td>\n",
       "      <td>N/a</td>\n",
       "    </tr>\n",
       "  </tbody>\n",
       "</table>\n",
       "</div>"
      ],
      "text/plain": [
       "   Other (please specify)                                      Textbox Entry\n",
       "1     Extremely Important                                     sustainability\n",
       "13    Extremely Important                                           water ph\n",
       "3     Extremely Important                                       Water taste.\n",
       "4     Extremely Important      Whether the water was filtered/treated or not\n",
       "9     Extremely Important                                              Taste\n",
       "0               Important  Myths/gossip about places with better/worse water\n",
       "12              Important                    if it is bottled, how old it is\n",
       "10              Important                                              Taste\n",
       "16              Important                                              Taste\n",
       "6               Important                                   Source depletion\n",
       "5               Important                       Cost of obtaining the water \n",
       "15              Important                                  hardness of water\n",
       "11     Somewhat Important                                Geographic Location\n",
       "2      Somewhat Important                  Basic understanding of technology\n",
       "7                 Neutral                                               none\n",
       "14                Neutral                                  Filtration system\n",
       "8                 Neutral                                                N/a"
      ]
     },
     "execution_count": 9,
     "metadata": {},
     "output_type": "execute_result"
    }
   ],
   "source": [
    "# Separate out the free text box responses\n",
    "Q7_optional = Q7_responses[['Q7_6', 'Q7_6_TEXT']]\n",
    "Q7_optional.dropna(inplace=True)\n",
    "print(\"Dimensions: {}\".format(Q7_optional.shape))\n",
    "Q7_optional.reset_index(drop=True, inplace=True)\n",
    "Q7_optional.columns = ['Other (please specify)', 'Textbox Entry']\n",
    "\n",
    "\n",
    "# sort by specified order\n",
    "Q7_optional['Other (please specify)'] = pd.Categorical(Q7_optional['Other (please specify)'], categories=['Extremely Important', \n",
    "                                                                                                          'Important',\n",
    "                                                                                                          'Somewhat Important',\n",
    "                                                                                                          'Neutral',\n",
    "                                                                                                          'Somewhat Not Important',\n",
    "                                                                                                          'Not Important',\n",
    "                                                                                                          'Extremely Not Important'])\n",
    "# sort\n",
    "Q7_optional = Q7_optional.sort_values('Other (please specify)')\n",
    "Q7_optional"
   ]
  },
  {
   "cell_type": "markdown",
   "metadata": {},
   "source": [
    "### Analyze how factors compared rank among eachother"
   ]
  },
  {
   "cell_type": "code",
   "execution_count": 10,
   "metadata": {},
   "outputs": [
    {
     "name": "stdout",
     "output_type": "stream",
     "text": [
      "(108, 5)\n"
     ]
    },
    {
     "data": {
      "text/html": [
       "<div>\n",
       "<style scoped>\n",
       "    .dataframe tbody tr th:only-of-type {\n",
       "        vertical-align: middle;\n",
       "    }\n",
       "\n",
       "    .dataframe tbody tr th {\n",
       "        vertical-align: top;\n",
       "    }\n",
       "\n",
       "    .dataframe thead th {\n",
       "        text-align: right;\n",
       "    }\n",
       "</style>\n",
       "<table border=\"1\" class=\"dataframe\">\n",
       "  <thead>\n",
       "    <tr style=\"text-align: right;\">\n",
       "      <th></th>\n",
       "      <th>Water source</th>\n",
       "      <th>Testing of water quality</th>\n",
       "      <th>Government water regulations</th>\n",
       "      <th>Local water pollution level</th>\n",
       "      <th>News impacting water safety</th>\n",
       "    </tr>\n",
       "  </thead>\n",
       "  <tbody>\n",
       "    <tr>\n",
       "      <th>0</th>\n",
       "      <td>Important</td>\n",
       "      <td>Extremely Important</td>\n",
       "      <td>Important</td>\n",
       "      <td>Extremely Important</td>\n",
       "      <td>Extremely Important</td>\n",
       "    </tr>\n",
       "    <tr>\n",
       "      <th>1</th>\n",
       "      <td>Important</td>\n",
       "      <td>Extremely Important</td>\n",
       "      <td>Important</td>\n",
       "      <td>Extremely Important</td>\n",
       "      <td>Important</td>\n",
       "    </tr>\n",
       "    <tr>\n",
       "      <th>2</th>\n",
       "      <td>Extremely Important</td>\n",
       "      <td>Extremely Important</td>\n",
       "      <td>Important</td>\n",
       "      <td>Extremely Important</td>\n",
       "      <td>Important</td>\n",
       "    </tr>\n",
       "    <tr>\n",
       "      <th>3</th>\n",
       "      <td>Extremely Important</td>\n",
       "      <td>Somewhat Important</td>\n",
       "      <td>Somewhat Important</td>\n",
       "      <td>Extremely Important</td>\n",
       "      <td>Important</td>\n",
       "    </tr>\n",
       "    <tr>\n",
       "      <th>4</th>\n",
       "      <td>Important</td>\n",
       "      <td>Somewhat Important</td>\n",
       "      <td>Somewhat Not Important</td>\n",
       "      <td>Somewhat Important</td>\n",
       "      <td>Neutral</td>\n",
       "    </tr>\n",
       "  </tbody>\n",
       "</table>\n",
       "</div>"
      ],
      "text/plain": [
       "          Water source Testing of water quality Government water regulations  \\\n",
       "0            Important      Extremely Important                    Important   \n",
       "1            Important      Extremely Important                    Important   \n",
       "2  Extremely Important      Extremely Important                    Important   \n",
       "3  Extremely Important       Somewhat Important           Somewhat Important   \n",
       "4            Important       Somewhat Important       Somewhat Not Important   \n",
       "\n",
       "  Local water pollution level News impacting water safety  \n",
       "0         Extremely Important         Extremely Important  \n",
       "1         Extremely Important                   Important  \n",
       "2         Extremely Important                   Important  \n",
       "3         Extremely Important                   Important  \n",
       "4          Somewhat Important                     Neutral  "
      ]
     },
     "execution_count": 10,
     "metadata": {},
     "output_type": "execute_result"
    }
   ],
   "source": [
    "factors = Q7_responses[['Q7_1', 'Q7_2', 'Q7_3', 'Q7_4', 'Q7_5']]\n",
    "factors.columns = ['Water source', 'Testing of water quality', 'Government water regulations', \n",
    "                   'Local water pollution level', 'News impacting water safety']\n",
    "factors.reset_index(drop=True, inplace=True)\n",
    "print(factors.shape)\n",
    "factors.head()"
   ]
  },
  {
   "cell_type": "code",
   "execution_count": 11,
   "metadata": {},
   "outputs": [
    {
     "name": "stderr",
     "output_type": "stream",
     "text": [
      "/Library/Frameworks/Python.framework/Versions/3.7/lib/python3.7/site-packages/ipykernel_launcher.py:8: SettingWithCopyWarning: \n",
      "A value is trying to be set on a copy of a slice from a DataFrame.\n",
      "Try using .loc[row_indexer,col_indexer] = value instead\n",
      "\n",
      "See the caveats in the documentation: http://pandas.pydata.org/pandas-docs/stable/indexing.html#indexing-view-versus-copy\n",
      "  \n"
     ]
    },
    {
     "data": {
      "text/html": [
       "<div>\n",
       "<style scoped>\n",
       "    .dataframe tbody tr th:only-of-type {\n",
       "        vertical-align: middle;\n",
       "    }\n",
       "\n",
       "    .dataframe tbody tr th {\n",
       "        vertical-align: top;\n",
       "    }\n",
       "\n",
       "    .dataframe thead th {\n",
       "        text-align: right;\n",
       "    }\n",
       "</style>\n",
       "<table border=\"1\" class=\"dataframe\">\n",
       "  <thead>\n",
       "    <tr style=\"text-align: right;\">\n",
       "      <th></th>\n",
       "      <th>Water source</th>\n",
       "      <th>Testing of water quality</th>\n",
       "      <th>Government water regulations</th>\n",
       "      <th>Local water pollution level</th>\n",
       "      <th>News impacting water safety</th>\n",
       "    </tr>\n",
       "  </thead>\n",
       "  <tbody>\n",
       "    <tr>\n",
       "      <th>0</th>\n",
       "      <td>6</td>\n",
       "      <td>7</td>\n",
       "      <td>6</td>\n",
       "      <td>7</td>\n",
       "      <td>7</td>\n",
       "    </tr>\n",
       "    <tr>\n",
       "      <th>1</th>\n",
       "      <td>6</td>\n",
       "      <td>7</td>\n",
       "      <td>6</td>\n",
       "      <td>7</td>\n",
       "      <td>6</td>\n",
       "    </tr>\n",
       "    <tr>\n",
       "      <th>2</th>\n",
       "      <td>7</td>\n",
       "      <td>7</td>\n",
       "      <td>6</td>\n",
       "      <td>7</td>\n",
       "      <td>6</td>\n",
       "    </tr>\n",
       "    <tr>\n",
       "      <th>3</th>\n",
       "      <td>7</td>\n",
       "      <td>5</td>\n",
       "      <td>5</td>\n",
       "      <td>7</td>\n",
       "      <td>6</td>\n",
       "    </tr>\n",
       "    <tr>\n",
       "      <th>4</th>\n",
       "      <td>6</td>\n",
       "      <td>5</td>\n",
       "      <td>3</td>\n",
       "      <td>5</td>\n",
       "      <td>4</td>\n",
       "    </tr>\n",
       "  </tbody>\n",
       "</table>\n",
       "</div>"
      ],
      "text/plain": [
       "   Water source  Testing of water quality  Government water regulations  \\\n",
       "0             6                         7                             6   \n",
       "1             6                         7                             6   \n",
       "2             7                         7                             6   \n",
       "3             7                         5                             5   \n",
       "4             6                         5                             3   \n",
       "\n",
       "   Local water pollution level  News impacting water safety  \n",
       "0                            7                            7  \n",
       "1                            7                            6  \n",
       "2                            7                            6  \n",
       "3                            7                            6  \n",
       "4                            5                            4  "
      ]
     },
     "execution_count": 11,
     "metadata": {},
     "output_type": "execute_result"
    }
   ],
   "source": [
    "for i in factors.columns:\n",
    "    factors[i] = factors[i].map({\"Extremely Important\": 7,\n",
    "                                 \"Important\": 6,\n",
    "                                 \"Somewhat Important\": 5,\n",
    "                                 \"Neutral\": 4,\n",
    "                                 \"Somewhat Not Important\": 3,\n",
    "                                 \"Not Important\": 2,\n",
    "                                 \"Extremely Not Important\": 1})\n",
    "\n",
    "factors.head()"
   ]
  },
  {
   "cell_type": "code",
   "execution_count": 16,
   "metadata": {},
   "outputs": [
    {
     "data": {
      "text/plain": [
       "[0, 1, 2, 3, 4]"
      ]
     },
     "execution_count": 16,
     "metadata": {},
     "output_type": "execute_result"
    }
   ],
   "source": [
    "# Generate subplot grid coordinates\n",
    "axis_keys = [] \n",
    "for i in list(range(5)):\n",
    "    axis_keys.append((i))\n",
    "\n",
    "axis_keys[:5]"
   ]
  },
  {
   "cell_type": "code",
   "execution_count": 17,
   "metadata": {},
   "outputs": [
    {
     "data": {
      "text/plain": [
       "{'Water source': 0,\n",
       " 'Testing of water quality': 1,\n",
       " 'Government water regulations': 2,\n",
       " 'Local water pollution level': 3,\n",
       " 'News impacting water safety': 4}"
      ]
     },
     "execution_count": 17,
     "metadata": {},
     "output_type": "execute_result"
    }
   ],
   "source": [
    "# Map column to grid coordinates\n",
    "subplot_data = {}\n",
    "for i, v in enumerate(factors):\n",
    "    subplot_data[v] = axis_keys[i]\n",
    "\n",
    "subplot_data"
   ]
  },
  {
   "cell_type": "code",
   "execution_count": 18,
   "metadata": {},
   "outputs": [],
   "source": [
    "colors = ['deepskyblue', 'lightgreen', 'coral', 'gold', 'plum']"
   ]
  },
  {
   "cell_type": "code",
   "execution_count": 21,
   "metadata": {},
   "outputs": [
    {
     "data": {
      "text/plain": [
       "array([0, 1, 2, 3, 4, 5, 6, 7])"
      ]
     },
     "execution_count": 21,
     "metadata": {},
     "output_type": "execute_result"
    }
   ],
   "source": [
    "np.arange(0,8)"
   ]
  },
  {
   "cell_type": "code",
   "execution_count": 25,
   "metadata": {},
   "outputs": [
    {
     "data": {
      "image/png": "[encoded data removed]",
      "text/plain": [
       "<Figure size 1440x720 with 5 Axes>"
      ]
     },
     "metadata": {
      "needs_background": "light"
     },
     "output_type": "display_data"
    }
   ],
   "source": [
    "fig, ax = plt.subplots(figsize=(20,10), nrows=1, ncols=5, sharey=True)\n",
    "fig.suptitle('Distribution of Factor Importances', fontsize=24)\n",
    "\n",
    "for k, v in subplot_data.items():\n",
    "    ax[v].hist(factors[k], bins=np.arange(0,8), color=colors[v], edgecolor='black')\n",
    "    ax[v].set_title(k, fontsize=15)\n",
    "    \n",
    "    y = [] \n",
    "    for rects in ax[v].patches:\n",
    "        # y-axis value \n",
    "        height = rects.get_height()\n",
    "        y.append(height)\n",
    "        ax[v].text(rects.get_x()+rects.get_width()/2.0,\n",
    "                   height+2, \n",
    "                   '{:1.2f}'.format(height/factors.shape[0]),\n",
    "                   ha='center')\n",
    "    \n",
    "    pos_score = sum(y[-3:])/factors.shape[0]\n",
    "    ax[v].set_xlabel('Importance factor {:1.2f}'.format(pos_score), fontsize=14)\n",
    "\n",
    "\n",
    "fig = plt.gcf() # get current figure\n",
    "fig.savefig(\"./images/Factors.png\")\n",
    "plt.show()"
   ]
  },
  {
   "cell_type": "code",
   "execution_count": 82,
   "metadata": {},
   "outputs": [
    {
     "data": {
      "text/html": [
       "<div>\n",
       "<style scoped>\n",
       "    .dataframe tbody tr th:only-of-type {\n",
       "        vertical-align: middle;\n",
       "    }\n",
       "\n",
       "    .dataframe tbody tr th {\n",
       "        vertical-align: top;\n",
       "    }\n",
       "\n",
       "    .dataframe thead th {\n",
       "        text-align: right;\n",
       "    }\n",
       "</style>\n",
       "<table border=\"1\" class=\"dataframe\">\n",
       "  <thead>\n",
       "    <tr style=\"text-align: right;\">\n",
       "      <th></th>\n",
       "      <th>index</th>\n",
       "      <th>Factors</th>\n",
       "      <th>Values</th>\n",
       "    </tr>\n",
       "  </thead>\n",
       "  <tbody>\n",
       "    <tr>\n",
       "      <th>0</th>\n",
       "      <td>0</td>\n",
       "      <td>Water source</td>\n",
       "      <td>6.0</td>\n",
       "    </tr>\n",
       "    <tr>\n",
       "      <th>1</th>\n",
       "      <td>1</td>\n",
       "      <td>Water source</td>\n",
       "      <td>6.0</td>\n",
       "    </tr>\n",
       "    <tr>\n",
       "      <th>2</th>\n",
       "      <td>2</td>\n",
       "      <td>Water source</td>\n",
       "      <td>6.0</td>\n",
       "    </tr>\n",
       "    <tr>\n",
       "      <th>3</th>\n",
       "      <td>3</td>\n",
       "      <td>Water source</td>\n",
       "      <td>7.0</td>\n",
       "    </tr>\n",
       "    <tr>\n",
       "      <th>4</th>\n",
       "      <td>4</td>\n",
       "      <td>Water source</td>\n",
       "      <td>7.0</td>\n",
       "    </tr>\n",
       "  </tbody>\n",
       "</table>\n",
       "</div>"
      ],
      "text/plain": [
       "   index       Factors  Values\n",
       "0      0  Water source     6.0\n",
       "1      1  Water source     6.0\n",
       "2      2  Water source     6.0\n",
       "3      3  Water source     7.0\n",
       "4      4  Water source     7.0"
      ]
     },
     "execution_count": 82,
     "metadata": {},
     "output_type": "execute_result"
    }
   ],
   "source": [
    "violin = pd.melt(factors, id_vars='index', value_vars=['Water source', 'Testing of water quality', 'Government water regulations', \n",
    "                   'Local water pollution level', 'News impacting water safety'])\n",
    "\n",
    "violin.replace({\"value\": {\n",
    "                          \"Extremely Important\": 7,\n",
    "                          \"Important\": 6,\n",
    "                          \"Somewhat Important\": 5,\n",
    "                          \"Neutral\": 4,\n",
    "                          \"Somewhat Not Important\": 3,\n",
    "                          \"Not Important\": 2,\n",
    "                          \"Extremely Not Important\": 1}}, inplace=True)\n",
    "violin.columns = ['index', 'Factors', 'Values']\n",
    "violin.head()"
   ]
  },
  {
   "cell_type": "code",
   "execution_count": 85,
   "metadata": {},
   "outputs": [
    {
     "data": {
      "text/plain": [
       "(array([0, 1, 2, 3, 4]), <a list of 5 Text xticklabel objects>)"
      ]
     },
     "execution_count": 85,
     "metadata": {},
     "output_type": "execute_result"
    },
    {
     "data": {
      "image/png": "[encoded data removed]",
      "text/plain": [
       "<Figure size 720x504 with 1 Axes>"
      ]
     },
     "metadata": {
      "needs_background": "light"
     },
     "output_type": "display_data"
    }
   ],
   "source": [
    "plt.figure(figsize=(10,7))\n",
    "sns.boxenplot(x=\"Factors\", y=\"Values\", data=violin, palette=\"Pastel1\")\n",
    "plt.xticks(rotation=45)"
   ]
  },
  {
   "cell_type": "code",
   "execution_count": 93,
   "metadata": {},
   "outputs": [],
   "source": [
    "# g = sns.FacetGrid(violin, row=\"Factors\")\n",
    "# g.map(plt.hist, 'Values')"
   ]
  },
  {
   "cell_type": "code",
   "execution_count": 46,
   "metadata": {},
   "outputs": [
    {
     "data": {
      "text/plain": [
       "Important                 43\n",
       "Extremely Important       35\n",
       "Somewhat Important        19\n",
       "Neutral                    7\n",
       "Somewhat Not Important     5\n",
       "Not Important              2\n",
       "Name: Water source, dtype: int64"
      ]
     },
     "execution_count": 46,
     "metadata": {},
     "output_type": "execute_result"
    }
   ],
   "source": [
    "factors['Water source'].value_counts()"
   ]
  },
  {
   "cell_type": "code",
   "execution_count": 50,
   "metadata": {},
   "outputs": [],
   "source": [
    "important = [] \n",
    "e_important = []\n",
    "x = factors.columns \n",
    "\n",
    "for i in factors.columns:\n",
    "\n",
    "    important.append(factors[i].value_counts().loc['Important'])\n",
    "    e_important.append(factors[i].value_counts().loc['Extremely Important'])"
   ]
  },
  {
   "cell_type": "code",
   "execution_count": 51,
   "metadata": {},
   "outputs": [
    {
     "data": {
      "text/plain": [
       "[43, 30, 45, 27, 43]"
      ]
     },
     "execution_count": 51,
     "metadata": {},
     "output_type": "execute_result"
    }
   ],
   "source": [
    "print(\"important\", important)\n",
    "print(\"extremely important\", e_important) \n",
    "print(\"somewhat importamt\", s_important)\n",
    "print('neutral', neutral)\n",
    "print('Some')"
   ]
  },
  {
   "cell_type": "code",
   "execution_count": 52,
   "metadata": {},
   "outputs": [
    {
     "data": {
      "text/plain": [
       "[35, 58, 40, 68, 38]"
      ]
     },
     "execution_count": 52,
     "metadata": {},
     "output_type": "execute_result"
    }
   ],
   "source": []
  },
  {
   "cell_type": "code",
   "execution_count": 58,
   "metadata": {},
   "outputs": [
    {
     "data": {
      "text/plain": [
       "[78, 88, 85, 95, 81]"
      ]
     },
     "execution_count": 58,
     "metadata": {},
     "output_type": "execute_result"
    }
   ],
   "source": [
    "combined_height = np.add(important, e_important).tolist()\n",
    "combined_height"
   ]
  },
  {
   "cell_type": "code",
   "execution_count": 60,
   "metadata": {},
   "outputs": [
    {
     "data": {
      "text/plain": [
       "<BarContainer object of 5 artists>"
      ]
     },
     "execution_count": 60,
     "metadata": {},
     "output_type": "execute_result"
    },
    {
     "data": {
      "image/png": "[encoded data removed]",
      "text/plain": [
       "<Figure size 720x504 with 1 Axes>"
      ]
     },
     "metadata": {
      "needs_background": "light"
     },
     "output_type": "display_data"
    }
   ],
   "source": [
    "plt.figure(figsize=(10,7))\n",
    "plt.bar(x, e_important, color='orange')\n",
    "plt.bar(x, important, bottom=e_important, color='blue')\n",
    "plt.bar(x, )\n"
   ]
  },
  {
   "cell_type": "code",
   "execution_count": 45,
   "metadata": {},
   "outputs": [
    {
     "data": {
      "text/plain": [
       "43"
      ]
     },
     "execution_count": 45,
     "metadata": {},
     "output_type": "execute_result"
    }
   ],
   "source": [
    "factors['Water source'].value_counts().loc['Important']\n",
    "factors['Water source'].value_counts().loc['Extremely Important']"
   ]
  },
  {
   "cell_type": "code",
   "execution_count": 40,
   "metadata": {},
   "outputs": [
    {
     "data": {
      "text/plain": [
       "<BarContainer object of 6 artists>"
      ]
     },
     "execution_count": 40,
     "metadata": {},
     "output_type": "execute_result"
    },
    {
     "data": {
      "image/png": "[encoded data removed]",
      "text/plain": [
       "<Figure size 432x288 with 1 Axes>"
      ]
     },
     "metadata": {
      "needs_background": "light"
     },
     "output_type": "display_data"
    }
   ],
   "source": [
    "y = filtered['Q7_1'].value_counts().values\n",
    "x = filtered['Q7_1'].value_counts().index\n",
    "plt.figure(fig)\n",
    "plt.bar(x,y)"
   ]
  },
  {
   "cell_type": "code",
   "execution_count": null,
   "metadata": {},
   "outputs": [],
   "source": []
  }
 ],
 "metadata": {
  "kernelspec": {
   "display_name": "Python 3",
   "language": "python",
   "name": "python3"
  },
  "language_info": {
   "codemirror_mode": {
    "name": "ipython",
    "version": 3
   },
   "file_extension": ".py",
   "mimetype": "text/x-python",
   "name": "python",
   "nbconvert_exporter": "python",
   "pygments_lexer": "ipython3",
   "version": "3.7.0"
  }
 },
 "nbformat": 4,
 "nbformat_minor": 2
}
